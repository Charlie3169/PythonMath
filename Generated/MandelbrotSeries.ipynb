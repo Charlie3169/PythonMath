{
 "cells": [
  {
   "cell_type": "code",
   "execution_count": 10,
   "metadata": {},
   "outputs": [],
   "source": [
    "import numpy as np\n",
    "from sympy import *\n",
    "import matplotlib.pyplot as plt"
   ]
  },
  {
   "cell_type": "code",
   "execution_count": 11,
   "metadata": {},
   "outputs": [],
   "source": [
    "z, C, x = symbols('z C x')\n",
    "init_printing(fontsize='200pt', use_latex='mathjax')"
   ]
  },
  {
   "cell_type": "code",
   "execution_count": 12,
   "metadata": {},
   "outputs": [
    {
     "data": {
      "text/latex": [
       "$\\displaystyle x^{2}$"
      ],
      "text/plain": [
       " 2\n",
       "x "
      ]
     },
     "metadata": {},
     "output_type": "display_data"
    },
    {
     "data": {
      "text/latex": [
       "$\\displaystyle C^{2} + 2 C x^{2} + x^{4}$"
      ],
      "text/plain": [
       " 2        2    4\n",
       "C  + 2⋅C⋅x  + x "
      ]
     },
     "metadata": {},
     "output_type": "display_data"
    },
    {
     "data": {
      "text/latex": [
       "$\\displaystyle C^{4} + 4 C^{3} x^{2} + 2 C^{3} + 6 C^{2} x^{4} + 4 C^{2} x^{2} + C^{2} + 4 C x^{6} + 2 C x^{4} + x^{8}$"
      ],
      "text/plain": [
       " 4      3  2      3      2  4      2  2    2        6        4    8\n",
       "C  + 4⋅C ⋅x  + 2⋅C  + 6⋅C ⋅x  + 4⋅C ⋅x  + C  + 4⋅C⋅x  + 2⋅C⋅x  + x "
      ]
     },
     "metadata": {},
     "output_type": "display_data"
    },
    {
     "data": {
      "text/latex": [
       "$\\displaystyle C^{8} + 8 C^{7} x^{2} + 4 C^{7} + 28 C^{6} x^{4} + 24 C^{6} x^{2} + 6 C^{6} + 56 C^{5} x^{6} + 60 C^{5} x^{4} + 24 C^{5} x^{2} + 6 C^{5} + 70 C^{4} x^{8} + 80 C^{4} x^{6} + 36 C^{4} x^{4} + 16 C^{4} x^{2} + 5 C^{4} + 56 C^{3} x^{10} + 60 C^{3} x^{8} + 24 C^{3} x^{6} + 16 C^{3} x^{4} + 8 C^{3} x^{2} + 2 C^{3} + 28 C^{2} x^{12} + 24 C^{2} x^{10} + 6 C^{2} x^{8} + 8 C^{2} x^{6} + 4 C^{2} x^{4} + C^{2} + 8 C x^{14} + 4 C x^{12} + 2 C x^{8} + x^{16}$"
      ],
      "text/plain": [
       " 8      7  2      7       6  4       6  2      6       5  6       5  4       5\n",
       "C  + 8⋅C ⋅x  + 4⋅C  + 28⋅C ⋅x  + 24⋅C ⋅x  + 6⋅C  + 56⋅C ⋅x  + 60⋅C ⋅x  + 24⋅C \n",
       "\n",
       "  2      5       4  8       4  6       4  4       4  2      4       3  10     \n",
       "⋅x  + 6⋅C  + 70⋅C ⋅x  + 80⋅C ⋅x  + 36⋅C ⋅x  + 16⋅C ⋅x  + 5⋅C  + 56⋅C ⋅x   + 60\n",
       "\n",
       "  3  8       3  6       3  4      3  2      3       2  12       2  10      2  \n",
       "⋅C ⋅x  + 24⋅C ⋅x  + 16⋅C ⋅x  + 8⋅C ⋅x  + 2⋅C  + 28⋅C ⋅x   + 24⋅C ⋅x   + 6⋅C ⋅x\n",
       "\n",
       "8      2  6      2  4    2        14        12        8    16\n",
       "  + 8⋅C ⋅x  + 4⋅C ⋅x  + C  + 8⋅C⋅x   + 4⋅C⋅x   + 2⋅C⋅x  + x  "
      ]
     },
     "metadata": {},
     "output_type": "display_data"
    },
    {
     "data": {
      "text/latex": [
       "$\\displaystyle x^{2}$"
      ],
      "text/plain": [
       " 2\n",
       "x "
      ]
     },
     "metadata": {},
     "output_type": "display_data"
    },
    {
     "data": {
      "text/latex": [
       "$\\displaystyle C^{2} + 2 C x^{2} + x^{4}$"
      ],
      "text/plain": [
       " 2        2    4\n",
       "C  + 2⋅C⋅x  + x "
      ]
     },
     "metadata": {},
     "output_type": "display_data"
    },
    {
     "data": {
      "text/latex": [
       "$\\displaystyle C^{4} + C^{3} \\cdot \\left(4 x^{2} + 2\\right) + C^{2} \\cdot \\left(6 x^{4} + 4 x^{2} + 1\\right) + C \\left(4 x^{6} + 2 x^{4}\\right) + x^{8}$"
      ],
      "text/plain": [
       " 4    3 ⎛   2    ⎞    2 ⎛   4      2    ⎞     ⎛   6      4⎞    8\n",
       "C  + C ⋅⎝4⋅x  + 2⎠ + C ⋅⎝6⋅x  + 4⋅x  + 1⎠ + C⋅⎝4⋅x  + 2⋅x ⎠ + x "
      ]
     },
     "metadata": {},
     "output_type": "display_data"
    },
    {
     "data": {
      "text/latex": [
       "$\\displaystyle C^{8} + C^{7} \\cdot \\left(8 x^{2} + 4\\right) + C^{6} \\cdot \\left(28 x^{4} + 24 x^{2} + 6\\right) + C^{5} \\cdot \\left(56 x^{6} + 60 x^{4} + 24 x^{2} + 6\\right) + C^{4} \\cdot \\left(70 x^{8} + 80 x^{6} + 36 x^{4} + 16 x^{2} + 5\\right) + C^{3} \\cdot \\left(56 x^{10} + 60 x^{8} + 24 x^{6} + 16 x^{4} + 8 x^{2} + 2\\right) + C^{2} \\cdot \\left(28 x^{12} + 24 x^{10} + 6 x^{8} + 8 x^{6} + 4 x^{4} + 1\\right) + C \\left(8 x^{14} + 4 x^{12} + 2 x^{8}\\right) + x^{16}$"
      ],
      "text/plain": [
       " 8    7 ⎛   2    ⎞    6 ⎛    4       2    ⎞    5 ⎛    6       4       2    ⎞  \n",
       "C  + C ⋅⎝8⋅x  + 4⎠ + C ⋅⎝28⋅x  + 24⋅x  + 6⎠ + C ⋅⎝56⋅x  + 60⋅x  + 24⋅x  + 6⎠ +\n",
       "\n",
       "  4 ⎛    8       6       4       2    ⎞    3 ⎛    10       8       6       4  \n",
       " C ⋅⎝70⋅x  + 80⋅x  + 36⋅x  + 16⋅x  + 5⎠ + C ⋅⎝56⋅x   + 60⋅x  + 24⋅x  + 16⋅x  +\n",
       "\n",
       "    2    ⎞    2 ⎛    12       10      8      6      4    ⎞     ⎛   14      12 \n",
       " 8⋅x  + 2⎠ + C ⋅⎝28⋅x   + 24⋅x   + 6⋅x  + 8⋅x  + 4⋅x  + 1⎠ + C⋅⎝8⋅x   + 4⋅x   \n",
       "\n",
       "     8⎞    16\n",
       "+ 2⋅x ⎠ + x  "
      ]
     },
     "metadata": {},
     "output_type": "display_data"
    },
    {
     "data": {
      "text/latex": [
       "$\\displaystyle x^{2}$"
      ],
      "text/plain": [
       " 2\n",
       "x "
      ]
     },
     "metadata": {},
     "output_type": "display_data"
    },
    {
     "data": {
      "text/latex": [
       "$\\displaystyle C^{2} + 2 C x^{2} + x^{4}$"
      ],
      "text/plain": [
       " 2        2    4\n",
       "C  + 2⋅C⋅x  + x "
      ]
     },
     "metadata": {},
     "output_type": "display_data"
    },
    {
     "data": {
      "text/latex": [
       "$\\displaystyle C^{4} + 2 C^{3} + C^{2} + 4 C x^{6} + x^{8} + x^{4} \\cdot \\left(6 C^{2} + 2 C\\right) + x^{2} \\cdot \\left(4 C^{3} + 4 C^{2}\\right)$"
      ],
      "text/plain": [
       " 4      3    2        6    8    4 ⎛   2      ⎞    2 ⎛   3      2⎞\n",
       "C  + 2⋅C  + C  + 4⋅C⋅x  + x  + x ⋅⎝6⋅C  + 2⋅C⎠ + x ⋅⎝4⋅C  + 4⋅C ⎠"
      ]
     },
     "metadata": {},
     "output_type": "display_data"
    },
    {
     "data": {
      "text/latex": [
       "$\\displaystyle C^{8} + 4 C^{7} + 6 C^{6} + 6 C^{5} + 5 C^{4} + 2 C^{3} + C^{2} + 8 C x^{14} + x^{16} + x^{12} \\cdot \\left(28 C^{2} + 4 C\\right) + x^{10} \\cdot \\left(56 C^{3} + 24 C^{2}\\right) + x^{8} \\cdot \\left(70 C^{4} + 60 C^{3} + 6 C^{2} + 2 C\\right) + x^{6} \\cdot \\left(56 C^{5} + 80 C^{4} + 24 C^{3} + 8 C^{2}\\right) + x^{4} \\cdot \\left(28 C^{6} + 60 C^{5} + 36 C^{4} + 16 C^{3} + 4 C^{2}\\right) + x^{2} \\cdot \\left(8 C^{7} + 24 C^{6} + 24 C^{5} + 16 C^{4} + 8 C^{3}\\right)$"
      ],
      "text/plain": [
       " 8      7      6      5      4      3    2        14    16    12 ⎛    2      ⎞\n",
       "C  + 4⋅C  + 6⋅C  + 6⋅C  + 5⋅C  + 2⋅C  + C  + 8⋅C⋅x   + x   + x  ⋅⎝28⋅C  + 4⋅C⎠\n",
       "\n",
       "    10 ⎛    3       2⎞    8 ⎛    4       3      2      ⎞    6 ⎛    5       4  \n",
       " + x  ⋅⎝56⋅C  + 24⋅C ⎠ + x ⋅⎝70⋅C  + 60⋅C  + 6⋅C  + 2⋅C⎠ + x ⋅⎝56⋅C  + 80⋅C  +\n",
       "\n",
       "     3      2⎞    4 ⎛    6       5       4       3      2⎞    2 ⎛   7       6 \n",
       " 24⋅C  + 8⋅C ⎠ + x ⋅⎝28⋅C  + 60⋅C  + 36⋅C  + 16⋅C  + 4⋅C ⎠ + x ⋅⎝8⋅C  + 24⋅C  \n",
       "\n",
       "      5       4      3⎞\n",
       "+ 24⋅C  + 16⋅C  + 8⋅C ⎠"
      ]
     },
     "metadata": {},
     "output_type": "display_data"
    }
   ],
   "source": [
    "C, x = symbols('C x')\n",
    "mu_1 = x**2\n",
    "\n",
    "mu_2 = expand((mu_1 + C)**2)\n",
    "mu_3 = expand((mu_2 + C)**2)\n",
    "mu_4 = expand((mu_3 + C)**2)\n",
    "\n",
    "\n",
    "\n",
    "display(mu_1)\n",
    "display(mu_2)\n",
    "display(mu_3)\n",
    "display(mu_4)\n",
    "\n",
    "display(collect(mu_1, C))\n",
    "display(collect(mu_2, C))\n",
    "display(collect(mu_3, C))\n",
    "display(collect(mu_4, C))\n",
    "\n",
    "display(collect(mu_1, x))\n",
    "display(collect(mu_2, x))\n",
    "display(collect(mu_3, x))\n",
    "display(collect(mu_4, x))"
   ]
  }
 ],
 "metadata": {
  "kernelspec": {
   "display_name": "Python 3",
   "language": "python",
   "name": "python3"
  },
  "language_info": {
   "codemirror_mode": {
    "name": "ipython",
    "version": 3
   },
   "file_extension": ".py",
   "mimetype": "text/x-python",
   "name": "python",
   "nbconvert_exporter": "python",
   "pygments_lexer": "ipython3",
   "version": "3.10.6"
  },
  "orig_nbformat": 4
 },
 "nbformat": 4,
 "nbformat_minor": 2
}

{
 "cells": [
  {
   "cell_type": "code",
   "execution_count": 1,
   "metadata": {},
   "outputs": [],
   "source": [
    "from sympy.parsing.latex import parse_latex\n",
    "from sympy import *\n",
    "\n",
    "init_printing(fontsize='200pt', use_latex='mathjax')\n",
    "\n",
    "def displayData(desmosGraphData):\n",
    "    for graph in desmosGraphData:\n",
    "        # Display the title of the graph\n",
    "        print(f\"Title: {graph['title']}\")\n",
    "        print(\"-\" * 50)\n",
    "\n",
    "        # Loop through each expression in the graph\n",
    "        for expr in graph['expressions']:\n",
    "            # Display text nodes\n",
    "            if 'text' in expr['content']:\n",
    "                print(f\"Text: {expr['content']['text']}\")\n",
    "\n",
    "            # Pretty-print LaTeX expressions using SymPy\n",
    "            if 'latex' in expr['content']:\n",
    "                latex_expr = expr['content']['latex']\n",
    "                try:\n",
    "                    sympy_expr = parse_latex(latex_expr)                                     \n",
    "                    display(sympy_expr)\n",
    "                except Exception as e:\n",
    "                    print(f\"Error parsing LaTeX: {e}\")\n",
    "                    print(f\"Raw LaTeX: {latex_expr}\")            "
   ]
  },
  {
   "cell_type": "code",
   "execution_count": 2,
   "metadata": {},
   "outputs": [
    {
     "name": "stderr",
     "output_type": "stream",
     "text": [
      "<>:4: SyntaxWarning: invalid escape sequence '\\D'\n",
      "<>:4: SyntaxWarning: invalid escape sequence '\\D'\n",
      "C:\\Users\\Charlie\\AppData\\Local\\Temp\\ipykernel_18912\\3210515971.py:4: SyntaxWarning: invalid escape sequence '\\D'\n",
      "  def loadJsonData(file_path = 'C:\\\\Users\\\\Charlie\\Documents\\\\TextRepository\\\\NodesJSON\\\\DesmosJSON\\\\desmos_data.json'):\n"
     ]
    }
   ],
   "source": [
    "import json\n",
    "\n",
    "# Function to read the JSON data from the file\n",
    "def loadJsonData(file_path = 'C:\\\\Users\\\\Charlie\\Documents\\\\TextRepository\\\\NodesJSON\\\\DesmosJSON\\\\desmos_data.json'):\n",
    "    with open(file_path, 'r') as file:\n",
    "        data = json.load(file)\n",
    "    return data"
   ]
  },
  {
   "cell_type": "code",
   "execution_count": 3,
   "metadata": {},
   "outputs": [
    {
     "name": "stdout",
     "output_type": "stream",
     "text": [
      "Title: Integer Path Entropy\n",
      "--------------------------------------------------\n",
      "Text: I want to quantify how far apart the average number is from a power of another and how much information that takes\n",
      "LaTeX Expression:\n"
     ]
    },
    {
     "data": {
      "text/plain": [
       "'a=324000000000'"
      ]
     },
     "metadata": {},
     "output_type": "display_data"
    },
    {
     "data": {
      "text/latex": [
       "$\\displaystyle a = 324000000000$"
      ],
      "text/plain": [
       "a = 324000000000"
      ]
     },
     "metadata": {},
     "output_type": "display_data"
    },
    {
     "name": "stdout",
     "output_type": "stream",
     "text": [
      "Text: Digits\n",
      "LaTeX Expression:\n"
     ]
    },
    {
     "data": {
      "text/plain": [
       "'\\\\operatorname{ceil}\\\\left(\\\\log_{2}\\\\left(a\\\\right)\\\\right)'"
      ]
     },
     "metadata": {},
     "output_type": "display_data"
    },
    {
     "data": {
      "text/latex": [
       "$\\displaystyle operatorname c e i l \\log{\\left(a \\right)}$"
      ],
      "text/plain": [
       "operatorname⋅c⋅e⋅i⋅l⋅log(a, 2)"
      ]
     },
     "metadata": {},
     "output_type": "display_data"
    },
    {
     "name": "stdout",
     "output_type": "stream",
     "text": [
      "LaTeX Expression:\n"
     ]
    },
    {
     "data": {
      "text/plain": [
       "'\\\\operatorname{ceil}\\\\left(\\\\log_{10}\\\\left(a\\\\right)\\\\right)'"
      ]
     },
     "metadata": {},
     "output_type": "display_data"
    },
    {
     "data": {
      "text/latex": [
       "$\\displaystyle operatorname c e i l \\log{\\left(a \\right)}$"
      ],
      "text/plain": [
       "operatorname⋅c⋅e⋅i⋅l⋅log(a, 10)"
      ]
     },
     "metadata": {},
     "output_type": "display_data"
    },
    {
     "name": "stdout",
     "output_type": "stream",
     "text": [
      "Text: Finding closest simple integer\n",
      "LaTeX Expression:\n"
     ]
    },
    {
     "data": {
      "text/plain": [
       "'\\\\log_{b}\\\\left(a\\\\right)'"
      ]
     },
     "metadata": {},
     "output_type": "display_data"
    },
    {
     "data": {
      "text/latex": [
       "$\\displaystyle \\log{\\left(a \\right)}$"
      ],
      "text/plain": [
       "log(a, b)"
      ]
     },
     "metadata": {},
     "output_type": "display_data"
    },
    {
     "name": "stdout",
     "output_type": "stream",
     "text": [
      "LaTeX Expression:\n"
     ]
    },
    {
     "data": {
      "text/plain": [
       "'e_{xample}=\\\\operatorname{mod}\\\\left(\\\\log_{b}\\\\left(a\\\\right),\\\\ 1\\\\right)'"
      ]
     },
     "metadata": {},
     "output_type": "display_data"
    },
    {
     "data": {
      "text/latex": [
       "$\\displaystyle e_{x*(a*(m*(p*(e*l))))} = operatorname m d o$"
      ],
      "text/plain": [
       "e_{x*(a*(m*(p*(e*l))))} = operatorname⋅m⋅d⋅o"
      ]
     },
     "metadata": {},
     "output_type": "display_data"
    },
    {
     "name": "stdout",
     "output_type": "stream",
     "text": [
      "Error parsing LaTeX: missing '\\rangle' at '('\n",
      "\\left|\\operatorname{mod}\\left(\\log_{b}\\left(a\\right),\\ 1\\right)-1\\right|\n",
      "~~~~~~~~~~~~~~~~~~~~~~~~~~~~~^\n",
      "Raw LaTeX: \\left|\\operatorname{mod}\\left(\\log_{b}\\left(a\\right),\\ 1\\right)-1\\right|\n",
      "LaTeX Expression:\n"
     ]
    },
    {
     "data": {
      "text/plain": [
       "'b=9'"
      ]
     },
     "metadata": {},
     "output_type": "display_data"
    },
    {
     "data": {
      "text/latex": [
       "$\\displaystyle b = 9$"
      ],
      "text/plain": [
       "b = 9"
      ]
     },
     "metadata": {},
     "output_type": "display_data"
    },
    {
     "name": "stdout",
     "output_type": "stream",
     "text": [
      "LaTeX Expression:\n"
     ]
    },
    {
     "data": {
      "text/plain": [
       "'\\\\operatorname{mod}\\\\left(\\\\log_{x}\\\\left(a\\\\right),\\\\ 1\\\\right)'"
      ]
     },
     "metadata": {},
     "output_type": "display_data"
    },
    {
     "data": {
      "text/latex": [
       "$\\displaystyle operatorname m d o$"
      ],
      "text/plain": [
       "operatorname⋅m⋅d⋅o"
      ]
     },
     "metadata": {},
     "output_type": "display_data"
    },
    {
     "name": "stdout",
     "output_type": "stream",
     "text": [
      "Text: Move effective from the lower power\n",
      "LaTeX Expression:\n"
     ]
    },
    {
     "data": {
      "text/plain": [
       "'2^{\\\\left(4+e_{xample}\\\\right)}-2^{4}'"
      ]
     },
     "metadata": {},
     "output_type": "display_data"
    },
    {
     "data": {
      "text/latex": [
       "$\\displaystyle 2^{e_{x*(a*(m*(p*(e*l))))} + 4} - 2^{4}$"
      ],
      "text/plain": [
       " e_{x*(a*(m*(p*(e*l))))} + 4    4\n",
       "2                            - 2 "
      ]
     },
     "metadata": {},
     "output_type": "display_data"
    },
    {
     "name": "stdout",
     "output_type": "stream",
     "text": [
      "LaTeX Expression:\n"
     ]
    },
    {
     "data": {
      "text/plain": [
       "'2^{5}-2^{\\\\left(5-e_{xample}\\\\right)}'"
      ]
     },
     "metadata": {},
     "output_type": "display_data"
    },
    {
     "data": {
      "text/latex": [
       "$\\displaystyle - 2^{5 - e_{x*(a*(m*(p*(e*l))))}} + 2^{5}$"
      ],
      "text/plain": [
       "   5 - e_{x*(a*(m*(p*(e*l))))}    5\n",
       "- 2                            + 2 "
      ]
     },
     "metadata": {},
     "output_type": "display_data"
    },
    {
     "name": "stdout",
     "output_type": "stream",
     "text": [
      "LaTeX Expression:\n"
     ]
    },
    {
     "data": {
      "text/plain": [
       "'a_{1}=2'"
      ]
     },
     "metadata": {},
     "output_type": "display_data"
    },
    {
     "data": {
      "text/latex": [
       "$\\displaystyle a_{1} = 2$"
      ],
      "text/plain": [
       "a_{1} = 2"
      ]
     },
     "metadata": {},
     "output_type": "display_data"
    },
    {
     "name": "stdout",
     "output_type": "stream",
     "text": [
      "LaTeX Expression:\n"
     ]
    },
    {
     "data": {
      "text/plain": [
       "'p_{1}=6'"
      ]
     },
     "metadata": {},
     "output_type": "display_data"
    },
    {
     "data": {
      "text/latex": [
       "$\\displaystyle p_{1} = 6$"
      ],
      "text/plain": [
       "p_{1} = 6"
      ]
     },
     "metadata": {},
     "output_type": "display_data"
    },
    {
     "name": "stdout",
     "output_type": "stream",
     "text": [
      "LaTeX Expression:\n"
     ]
    },
    {
     "data": {
      "text/plain": [
       "'d_{elta}=0.02'"
      ]
     },
     "metadata": {},
     "output_type": "display_data"
    },
    {
     "data": {
      "text/latex": [
       "$\\displaystyle d_{e*(l*(a*t))} = 0.02$"
      ],
      "text/plain": [
       "d_{e*(l*(a*t))} = 0.02"
      ]
     },
     "metadata": {},
     "output_type": "display_data"
    },
    {
     "name": "stdout",
     "output_type": "stream",
     "text": [
      "LaTeX Expression:\n"
     ]
    },
    {
     "data": {
      "text/plain": [
       "'r_{1}=\\\\left(a_{1}^{\\\\left(p_{1}+1\\\\right)}-a_{1}^{\\\\left(p_{1}+1-d_{elta}\\\\right)}\\\\right)\\\\cdot\\\\left(a_{1}^{d_{elta}-1}\\\\right)'"
      ]
     },
     "metadata": {},
     "output_type": "display_data"
    },
    {
     "data": {
      "text/latex": [
       "$\\displaystyle r_{1} = a_{1}^{d_{e*(l*(a*t))} - 1} \\left(- a_{1}^{- d_{e*(l*(a*t))} + \\left(p_{1} + 1\\right)} + a_{1}^{p_{1} + 1}\\right)$"
      ],
      "text/plain": [
       "             d_{e*(l*(a*t))} - 1 ⎛       -d_{e*(l*(a*t))} + p_{1} + 1        p\n",
       "r_{1} = a_{1}                   ⋅⎝- a_{1}                             + a_{1} \n",
       "\n",
       "_{1} + 1⎞\n",
       "        ⎠"
      ]
     },
     "metadata": {},
     "output_type": "display_data"
    },
    {
     "name": "stdout",
     "output_type": "stream",
     "text": [
      "LaTeX Expression:\n"
     ]
    },
    {
     "data": {
      "text/plain": [
       "'r_{2}=a_{1}^{\\\\left(p_{1}+d_{elta}\\\\right)}-a_{1}^{p_{1}}'"
      ]
     },
     "metadata": {},
     "output_type": "display_data"
    },
    {
     "data": {
      "text/latex": [
       "$\\displaystyle r_{2} = - a_{1}^{p_{1}} + a_{1}^{d_{e*(l*(a*t))} + p_{1}}$"
      ],
      "text/plain": [
       "               p_{1}        d_{e*(l*(a*t))} + p_{1}\n",
       "r_{2} = - a_{1}      + a_{1}                       "
      ]
     },
     "metadata": {},
     "output_type": "display_data"
    },
    {
     "name": "stdout",
     "output_type": "stream",
     "text": [
      "LaTeX Expression:\n"
     ]
    },
    {
     "data": {
      "text/plain": [
       "'m_{etric}\\\\left(x\\\\right)=\\\\left(\\\\frac{1+\\\\sin\\\\left(2\\\\pi x+\\\\frac{\\\\pi}{2}\\\\right)}{2}\\\\right)\\\\left\\\\{0\\\\le x\\\\le1\\\\right\\\\}'"
      ]
     },
     "metadata": {},
     "output_type": "display_data"
    },
    {
     "data": {
      "text/latex": [
       "$\\displaystyle m_{e*(t*(r*(c*i)))}{\\left(x \\right)} = \\frac{\\sin{\\left(2 \\pi x + \\frac{\\pi}{2} \\right)} + 1}{2}$"
      ],
      "text/plain": [
       "                            ⎛        π⎞    \n",
       "                         sin⎜2⋅π⋅x + ─⎟ + 1\n",
       "                            ⎝        2⎠    \n",
       "m_{e*(t*(r*(c*i)))}(x) = ──────────────────\n",
       "                                 2         "
      ]
     },
     "metadata": {},
     "output_type": "display_data"
    },
    {
     "name": "stdout",
     "output_type": "stream",
     "text": [
      "LaTeX Expression:\n"
     ]
    },
    {
     "data": {
      "text/plain": [
       "'m_{etric}\\\\left(r_{1}\\\\right)'"
      ]
     },
     "metadata": {},
     "output_type": "display_data"
    },
    {
     "data": {
      "text/latex": [
       "$\\displaystyle m_{e*(t*(r*(c*i)))}{\\left(r_{1} \\right)}$"
      ],
      "text/plain": [
       "m_{e*(t*(r*(c*i)))}(r_{1})"
      ]
     },
     "metadata": {},
     "output_type": "display_data"
    },
    {
     "name": "stdout",
     "output_type": "stream",
     "text": [
      "LaTeX Expression:\n"
     ]
    },
    {
     "data": {
      "text/plain": [
       "'m_{etric}\\\\left(r_{2}\\\\right)'"
      ]
     },
     "metadata": {},
     "output_type": "display_data"
    },
    {
     "data": {
      "text/latex": [
       "$\\displaystyle m_{e*(t*(r*(c*i)))}{\\left(r_{2} \\right)}$"
      ],
      "text/plain": [
       "m_{e*(t*(r*(c*i)))}(r_{2})"
      ]
     },
     "metadata": {},
     "output_type": "display_data"
    },
    {
     "name": "stdout",
     "output_type": "stream",
     "text": [
      "Error parsing LaTeX: missing '\\}' at '<'\n",
      "f\\left(x\\right)=\\left\\{0<x<\\frac{1}{2}:\\left(\\frac{1+\\sin\\left(2\\pi x+\\frac{\\pi}{2}\\right)}{2}\\right),\\ 1>x\\ >\\frac{1}{2}:\\ \\left(\\frac{1+\\sin\\left(2\\pi x+\\frac{\\pi}{2}\\right)}{2}\\right)\\ \\ \\right\\}\n",
      "~~~~~~~~~~~~~~~~~~~~~~~~^\n",
      "Raw LaTeX: f\\left(x\\right)=\\left\\{0<x<\\frac{1}{2}:\\left(\\frac{1+\\sin\\left(2\\pi x+\\frac{\\pi}{2}\\right)}{2}\\right),\\ 1>x\\ >\\frac{1}{2}:\\ \\left(\\frac{1+\\sin\\left(2\\pi x+\\frac{\\pi}{2}\\right)}{2}\\right)\\ \\ \\right\\}\n",
      "LaTeX Expression:\n"
     ]
    },
    {
     "data": {
      "text/plain": [
       "'a_{1}^{\\\\left(x+d_{elta}\\\\right)}-a_{1}^{x}'"
      ]
     },
     "metadata": {},
     "output_type": "display_data"
    },
    {
     "data": {
      "text/latex": [
       "$\\displaystyle - a_{1}^{x} + a_{1}^{d_{e*(l*(a*t))} + x}$"
      ],
      "text/plain": [
       "       x        d_{e*(l*(a*t))} + x\n",
       "- a_{1}  + a_{1}                   "
      ]
     },
     "metadata": {},
     "output_type": "display_data"
    },
    {
     "name": "stdout",
     "output_type": "stream",
     "text": [
      "LaTeX Expression:\n"
     ]
    },
    {
     "data": {
      "text/plain": [
       "'\\\\left(a_{1}^{\\\\left(x+1\\\\right)}-a_{1}^{\\\\left(x+1-d_{elta}\\\\right)}\\\\right)'"
      ]
     },
     "metadata": {},
     "output_type": "display_data"
    },
    {
     "data": {
      "text/latex": [
       "$\\displaystyle - a_{1}^{- d_{e*(l*(a*t))} + \\left(x + 1\\right)} + a_{1}^{x + 1}$"
      ],
      "text/plain": [
       "       -d_{e*(l*(a*t))} + x + 1        x + 1\n",
       "- a_{1}                         + a_{1}     "
      ]
     },
     "metadata": {},
     "output_type": "display_data"
    },
    {
     "name": "stdout",
     "output_type": "stream",
     "text": [
      "LaTeX Expression:\n"
     ]
    },
    {
     "data": {
      "text/plain": [
       "'\\\\left(a_{1}^{\\\\left(x+1\\\\right)}-a_{1}^{\\\\left(x+1-d_{elta}\\\\right)}\\\\right)\\\\cdot\\\\frac{1}{a_{1}}'"
      ]
     },
     "metadata": {},
     "output_type": "display_data"
    },
    {
     "data": {
      "text/latex": [
       "$\\displaystyle \\frac{- a_{1}^{- d_{e*(l*(a*t))} + \\left(x + 1\\right)} + a_{1}^{x + 1}}{a_{1}}$"
      ],
      "text/plain": [
       "       -d_{e*(l*(a*t))} + x + 1        x + 1\n",
       "- a_{1}                         + a_{1}     \n",
       "────────────────────────────────────────────\n",
       "                   a_{1}                    "
      ]
     },
     "metadata": {},
     "output_type": "display_data"
    },
    {
     "name": "stdout",
     "output_type": "stream",
     "text": [
      "LaTeX Expression:\n"
     ]
    },
    {
     "data": {
      "text/plain": [
       "'d=\\\\left(a_{1}^{\\\\left(p_{1}+1\\\\right)}-a_{1}^{\\\\left(p_{1}+1-d_{elta}\\\\right)}\\\\right)-\\\\left(a_{1}^{\\\\left(p_{1}+d_{elta}\\\\right)}-a_{1}^{p_{1}}\\\\right)'"
      ]
     },
     "metadata": {},
     "output_type": "display_data"
    },
    {
     "data": {
      "text/latex": [
       "$\\displaystyle d = - (- a_{1}^{p_{1}} + a_{1}^{d_{e*(l*(a*t))} + p_{1}}) - \\left(a_{1}^{- d_{e*(l*(a*t))} + \\left(p_{1} + 1\\right)} - a_{1}^{p_{1} + 1}\\right)$"
      ],
      "text/plain": [
       "      ⎛       p_{1}        d_{e*(l*(a*t))} + p_{1}⎞          -d_{e*(l*(a*t))} \n",
       "d = - ⎝- a_{1}      + a_{1}                       ⎠ + - a_{1}                 \n",
       "\n",
       "+ p_{1} + 1        p_{1} + 1\n",
       "            + a_{1}         "
      ]
     },
     "metadata": {},
     "output_type": "display_data"
    },
    {
     "name": "stdout",
     "output_type": "stream",
     "text": [
      "Error parsing LaTeX: I expected one of these: '\\rangle'\n",
      "d_{1}=\\left|\\left(a_{1}^{\\left(p_{1}+1\\right)}-a_{1}^{\\left(p_{1}+1-x\\right)}\\right)-\\left(a_{1}^{\\left(p_{1}+x\\right)}-a_{1}^{p_{1}}\\right)\\right|\n",
      "~~~~~~~~~~~~~~~~~~~~~~~~~~~~~~~~~~~~~~~~~~~~~~~~~~~~~~~~~~~~~~~~~~~~~~~~~~~~~~~~~~~~~~~~~~~~~~~~~~~~~~~~~~~~~~~~~~~~~~~~~~~~~~~~~~~~~~~~~~~~^\n",
      "Raw LaTeX: d_{1}=\\left|\\left(a_{1}^{\\left(p_{1}+1\\right)}-a_{1}^{\\left(p_{1}+1-x\\right)}\\right)-\\left(a_{1}^{\\left(p_{1}+x\\right)}-a_{1}^{p_{1}}\\right)\\right|\n",
      "LaTeX Expression:\n"
     ]
    },
    {
     "data": {
      "text/plain": [
       "'d_{2}=\\\\left(a_{1}^{\\\\left(x+1\\\\right)}-a_{1}^{\\\\left(x+1-d_{elta}\\\\right)}\\\\right)-\\\\left(a_{1}^{\\\\left(x+d_{elta}\\\\right)}-a_{1}^{x}\\\\right)'"
      ]
     },
     "metadata": {},
     "output_type": "display_data"
    },
    {
     "data": {
      "text/latex": [
       "$\\displaystyle d_{2} = - (- a_{1}^{x} + a_{1}^{d_{e*(l*(a*t))} + x}) - \\left(a_{1}^{- d_{e*(l*(a*t))} + \\left(x + 1\\right)} - a_{1}^{x + 1}\\right)$"
      ],
      "text/plain": [
       "          ⎛       x        d_{e*(l*(a*t))} + x⎞          -d_{e*(l*(a*t))} + x \n",
       "d_{2} = - ⎝- a_{1}  + a_{1}                   ⎠ + - a_{1}                     \n",
       "\n",
       "+ 1        x + 1\n",
       "    + a_{1}     "
      ]
     },
     "metadata": {},
     "output_type": "display_data"
    },
    {
     "name": "stdout",
     "output_type": "stream",
     "text": [
      "LaTeX Expression:\n"
     ]
    },
    {
     "data": {
      "text/plain": [
       "'d_{2}=\\\\left(a_{1}^{\\\\left(x+1-q\\\\right)}-a_{1}^{\\\\left(x+1-q-d_{elta}\\\\right)}\\\\right)-\\\\left(a_{1}^{\\\\left(x+d_{elta}\\\\right)}-a_{1}^{x}\\\\right)'"
      ]
     },
     "metadata": {},
     "output_type": "display_data"
    },
    {
     "data": {
      "text/latex": [
       "$\\displaystyle d_{2} = - (- a_{1}^{x} + a_{1}^{d_{e*(l*(a*t))} + x}) - \\left(a_{1}^{- d_{e*(l*(a*t))} - \\left(q - x - 1\\right)} - a_{1}^{- q + \\left(x + 1\\right)}\\right)$"
      ],
      "text/plain": [
       "          ⎛       x        d_{e*(l*(a*t))} + x⎞          -d_{e*(l*(a*t))} + -q\n",
       "d_{2} = - ⎝- a_{1}  + a_{1}                   ⎠ + - a_{1}                     \n",
       "\n",
       " + x + 1        -q + x + 1\n",
       "         + a_{1}          "
      ]
     },
     "metadata": {},
     "output_type": "display_data"
    },
    {
     "name": "stdout",
     "output_type": "stream",
     "text": [
      "LaTeX Expression:\n"
     ]
    },
    {
     "data": {
      "text/plain": [
       "'q=0.9'"
      ]
     },
     "metadata": {},
     "output_type": "display_data"
    },
    {
     "data": {
      "text/latex": [
       "$\\displaystyle q = 0.9$"
      ],
      "text/plain": [
       "q = 0.9"
      ]
     },
     "metadata": {},
     "output_type": "display_data"
    },
    {
     "name": "stdout",
     "output_type": "stream",
     "text": [
      "LaTeX Expression:\n"
     ]
    },
    {
     "data": {
      "text/plain": [
       "'n=1240'"
      ]
     },
     "metadata": {},
     "output_type": "display_data"
    },
    {
     "data": {
      "text/latex": [
       "$\\displaystyle n = 1240$"
      ],
      "text/plain": [
       "n = 1240"
      ]
     },
     "metadata": {},
     "output_type": "display_data"
    },
    {
     "name": "stdout",
     "output_type": "stream",
     "text": [
      "LaTeX Expression:\n"
     ]
    },
    {
     "data": {
      "text/plain": [
       "'\\\\operatorname{floor}\\\\left(\\\\frac{n}{\\\\left(x\\\\right)}\\\\right)'"
      ]
     },
     "metadata": {},
     "output_type": "display_data"
    },
    {
     "data": {
      "text/latex": [
       "$\\displaystyle operatorname f l o o r \\frac{n}{x}$"
      ],
      "text/plain": [
       "                       n\n",
       "operatorname⋅f⋅l⋅o⋅o⋅r⋅─\n",
       "                       x"
      ]
     },
     "metadata": {},
     "output_type": "display_data"
    },
    {
     "name": "stdout",
     "output_type": "stream",
     "text": [
      "LaTeX Expression:\n"
     ]
    },
    {
     "data": {
      "text/plain": [
       "'d_{iff}=\\\\operatorname{floor}\\\\left(\\\\frac{n}{x}\\\\right)-\\\\operatorname{floor}\\\\left(\\\\frac{n}{x+1}\\\\right)'"
      ]
     },
     "metadata": {},
     "output_type": "display_data"
    },
    {
     "data": {
      "text/latex": [
       "$\\displaystyle d_{i*(f*f)} = operatorname f l o o r \\frac{n}{x} - operatorname f l o o r \\frac{n}{x + 1}$"
      ],
      "text/plain": [
       "                                     n                            n  \n",
       "d_{i*(f*f)} = operatorname⋅f⋅l⋅o⋅o⋅r⋅─ - operatorname⋅f⋅l⋅o⋅o⋅r⋅─────\n",
       "                                     x                          x + 1"
      ]
     },
     "metadata": {},
     "output_type": "display_data"
    },
    {
     "name": "stdout",
     "output_type": "stream",
     "text": [
      "LaTeX Expression:\n"
     ]
    },
    {
     "data": {
      "text/plain": [
       "'\\\\frac{n}{10}'"
      ]
     },
     "metadata": {},
     "output_type": "display_data"
    },
    {
     "data": {
      "text/latex": [
       "$\\displaystyle \\frac{n}{10}$"
      ],
      "text/plain": [
       "n \n",
       "──\n",
       "10"
      ]
     },
     "metadata": {},
     "output_type": "display_data"
    },
    {
     "name": "stdout",
     "output_type": "stream",
     "text": [
      "LaTeX Expression:\n"
     ]
    },
    {
     "data": {
      "text/plain": [
       "'\\\\operatorname{mod}\\\\left(n,\\\\ \\\\operatorname{floor}\\\\left(x\\\\right)\\\\right)'"
      ]
     },
     "metadata": {},
     "output_type": "display_data"
    },
    {
     "data": {
      "text/latex": [
       "$\\displaystyle operatorname m d o$"
      ],
      "text/plain": [
       "operatorname⋅m⋅d⋅o"
      ]
     },
     "metadata": {},
     "output_type": "display_data"
    },
    {
     "name": "stdout",
     "output_type": "stream",
     "text": [
      "LaTeX Expression:\n"
     ]
    },
    {
     "data": {
      "text/plain": [
       "'d_{iff2}=\\\\operatorname{mod}\\\\left(n,\\\\ \\\\operatorname{floor}\\\\left(x\\\\right)\\\\right)-\\\\operatorname{mod}\\\\left(n,\\\\ \\\\operatorname{floor}\\\\left(x+1\\\\right)\\\\right)'"
      ]
     },
     "metadata": {},
     "output_type": "display_data"
    },
    {
     "data": {
      "text/latex": [
       "$\\displaystyle d_{i*(f*(f*2))} = operatorname m d o$"
      ],
      "text/plain": [
       "d_{i*(f*(f*2))} = operatorname⋅m⋅d⋅o"
      ]
     },
     "metadata": {},
     "output_type": "display_data"
    },
    {
     "name": "stdout",
     "output_type": "stream",
     "text": [
      "LaTeX Expression:\n"
     ]
    },
    {
     "data": {
      "text/plain": [
       "'\\\\operatorname{mod}\\\\left(124,60\\\\right)'"
      ]
     },
     "metadata": {},
     "output_type": "display_data"
    },
    {
     "data": {
      "text/latex": [
       "$\\displaystyle operatorname m d o$"
      ],
      "text/plain": [
       "operatorname⋅m⋅d⋅o"
      ]
     },
     "metadata": {},
     "output_type": "display_data"
    },
    {
     "name": "stdout",
     "output_type": "stream",
     "text": [
      "Title: Euler-Mascheroni\n",
      "--------------------------------------------------\n",
      "LaTeX Expression:\n"
     ]
    },
    {
     "data": {
      "text/plain": [
       "'\\\\gamma=0.577215664901'"
      ]
     },
     "metadata": {},
     "output_type": "display_data"
    },
    {
     "data": {
      "text/latex": [
       "$\\displaystyle \\gamma = 0.577215664901$"
      ],
      "text/plain": [
       "γ = 0.577215664901"
      ]
     },
     "metadata": {},
     "output_type": "display_data"
    },
    {
     "name": "stdout",
     "output_type": "stream",
     "text": [
      "LaTeX Expression:\n"
     ]
    },
    {
     "data": {
      "text/plain": [
       "'m=80000'"
      ]
     },
     "metadata": {},
     "output_type": "display_data"
    },
    {
     "data": {
      "text/latex": [
       "$\\displaystyle m = 80000$"
      ],
      "text/plain": [
       "m = 80000"
      ]
     },
     "metadata": {},
     "output_type": "display_data"
    },
    {
     "name": "stdout",
     "output_type": "stream",
     "text": [
      "LaTeX Expression:\n"
     ]
    },
    {
     "data": {
      "text/plain": [
       "'g=140'"
      ]
     },
     "metadata": {},
     "output_type": "display_data"
    },
    {
     "data": {
      "text/latex": [
       "$\\displaystyle g = 140$"
      ],
      "text/plain": [
       "g = 140"
      ]
     },
     "metadata": {},
     "output_type": "display_data"
    },
    {
     "name": "stdout",
     "output_type": "stream",
     "text": [
      "LaTeX Expression:\n"
     ]
    },
    {
     "data": {
      "text/plain": [
       "'\\\\left(\\\\sum_{n=1}^{m}\\\\frac{1}{n}-\\\\ln\\\\left(m\\\\right)\\\\right)-\\\\gamma'"
      ]
     },
     "metadata": {},
     "output_type": "display_data"
    },
    {
     "data": {
      "text/latex": [
       "$\\displaystyle - \\gamma - \\left(\\log{\\left(m \\right)} - \\sum_{n=1}^{m} \\frac{1}{n}\\right)$"
      ],
      "text/plain": [
       "                    m    \n",
       "                   ____  \n",
       "                   ╲     \n",
       "                    ╲    \n",
       "                     ╲  1\n",
       "-γ + -log(m, ℯ) +    ╱  ─\n",
       "                    ╱   n\n",
       "                   ╱     \n",
       "                   ‾‾‾‾  \n",
       "                  n = 1  "
      ]
     },
     "metadata": {},
     "output_type": "display_data"
    },
    {
     "name": "stdout",
     "output_type": "stream",
     "text": [
      "LaTeX Expression:\n"
     ]
    },
    {
     "data": {
      "text/plain": [
       "'\\\\frac{1}{m}\\\\sum_{n=1}^{m}\\\\left(1-\\\\frac{\\\\operatorname{mod}\\\\left(m,n\\\\right)}{n}\\\\right)-\\\\gamma'"
      ]
     },
     "metadata": {},
     "output_type": "display_data"
    },
    {
     "data": {
      "text/latex": [
       "$\\displaystyle \\frac{1}{m}$"
      ],
      "text/plain": [
       "1\n",
       "─\n",
       "m"
      ]
     },
     "metadata": {},
     "output_type": "display_data"
    },
    {
     "name": "stdout",
     "output_type": "stream",
     "text": [
      "LaTeX Expression:\n"
     ]
    },
    {
     "data": {
      "text/plain": [
       "'1-\\\\frac{1}{m}\\\\sum_{n=1}^{m}\\\\left(\\\\frac{\\\\operatorname{mod}\\\\left(m,n\\\\right)}{n}\\\\right)'"
      ]
     },
     "metadata": {},
     "output_type": "display_data"
    },
    {
     "data": {
      "text/latex": [
       "$\\displaystyle 1 - \\frac{1}{m}$"
      ],
      "text/plain": [
       "    1\n",
       "1 - ─\n",
       "    m"
      ]
     },
     "metadata": {},
     "output_type": "display_data"
    },
    {
     "name": "stdout",
     "output_type": "stream",
     "text": [
      "LaTeX Expression:\n"
     ]
    },
    {
     "data": {
      "text/plain": [
       "'\\\\frac{1}{m}\\\\sum_{n=1}^{m}\\\\left(\\\\frac{\\\\operatorname{mod}\\\\left(m,n\\\\right)}{n}\\\\right)'"
      ]
     },
     "metadata": {},
     "output_type": "display_data"
    },
    {
     "data": {
      "text/latex": [
       "$\\displaystyle \\frac{1}{m}$"
      ],
      "text/plain": [
       "1\n",
       "─\n",
       "m"
      ]
     },
     "metadata": {},
     "output_type": "display_data"
    },
    {
     "name": "stdout",
     "output_type": "stream",
     "text": [
      "LaTeX Expression:\n"
     ]
    },
    {
     "data": {
      "text/plain": [
       "'\\\\frac{1}{m}\\\\sum_{n=1}^{m}\\\\frac{\\\\operatorname{mod}\\\\left(m,n\\\\right)}{n}-\\\\left(1-\\\\gamma\\\\right)'"
      ]
     },
     "metadata": {},
     "output_type": "display_data"
    },
    {
     "data": {
      "text/latex": [
       "$\\displaystyle \\frac{1}{m}$"
      ],
      "text/plain": [
       "1\n",
       "─\n",
       "m"
      ]
     },
     "metadata": {},
     "output_type": "display_data"
    },
    {
     "name": "stdout",
     "output_type": "stream",
     "text": [
      "LaTeX Expression:\n"
     ]
    },
    {
     "data": {
      "text/plain": [
       "'\\\\frac{1}{m}\\\\int_{1}^{m}\\\\left(1-\\\\frac{\\\\operatorname{mod}\\\\left(m,x\\\\right)}{x}\\\\right)dx-\\\\gamma'"
      ]
     },
     "metadata": {},
     "output_type": "display_data"
    },
    {
     "data": {
      "text/latex": [
       "$\\displaystyle \\frac{1}{m}$"
      ],
      "text/plain": [
       "1\n",
       "─\n",
       "m"
      ]
     },
     "metadata": {},
     "output_type": "display_data"
    },
    {
     "name": "stdout",
     "output_type": "stream",
     "text": [
      "LaTeX Expression:\n"
     ]
    },
    {
     "data": {
      "text/plain": [
       "'\\\\frac{1}{m}\\\\int_{1}^{m}\\\\left(1-\\\\frac{d\\\\left(m,x\\\\right)}{x}\\\\right)dx-\\\\gamma'"
      ]
     },
     "metadata": {},
     "output_type": "display_data"
    },
    {
     "data": {
      "text/latex": [
       "$\\displaystyle \\frac{1}{m}$"
      ],
      "text/plain": [
       "1\n",
       "─\n",
       "m"
      ]
     },
     "metadata": {},
     "output_type": "display_data"
    },
    {
     "name": "stdout",
     "output_type": "stream",
     "text": [
      "LaTeX Expression:\n"
     ]
    },
    {
     "data": {
      "text/plain": [
       "'\\\\frac{1}{m}\\\\int_{1}^{m}\\\\frac{\\\\operatorname{mod}\\\\left(m,x\\\\right)}{x}dx-\\\\left(1-\\\\gamma\\\\right)'"
      ]
     },
     "metadata": {},
     "output_type": "display_data"
    },
    {
     "data": {
      "text/latex": [
       "$\\displaystyle \\frac{1}{m}$"
      ],
      "text/plain": [
       "1\n",
       "─\n",
       "m"
      ]
     },
     "metadata": {},
     "output_type": "display_data"
    },
    {
     "name": "stdout",
     "output_type": "stream",
     "text": [
      "LaTeX Expression:\n"
     ]
    },
    {
     "data": {
      "text/plain": [
       "'\\\\frac{1}{m}\\\\int_{1}^{m}\\\\frac{d\\\\left(m,x\\\\right)}{x}dx-\\\\left(1-\\\\gamma\\\\right)'"
      ]
     },
     "metadata": {},
     "output_type": "display_data"
    },
    {
     "data": {
      "text/latex": [
       "$\\displaystyle \\frac{1}{m}$"
      ],
      "text/plain": [
       "1\n",
       "─\n",
       "m"
      ]
     },
     "metadata": {},
     "output_type": "display_data"
    },
    {
     "name": "stdout",
     "output_type": "stream",
     "text": [
      "LaTeX Expression:\n"
     ]
    },
    {
     "data": {
      "text/plain": [
       "'\\\\int_{0}^{m}\\\\frac{\\\\ln\\\\left(\\\\frac{1}{x}\\\\right)}{e^{x}}dx'"
      ]
     },
     "metadata": {},
     "output_type": "display_data"
    },
    {
     "data": {
      "text/latex": [
       "$\\displaystyle \\int\\limits_{0}^{m} \\frac{\\log{\\left(\\frac{1}{x} \\right)}}{e^{x}}\\, dx$"
      ],
      "text/plain": [
       "m             \n",
       "⌠             \n",
       "⎮    ⎛1   ⎞   \n",
       "⎮ log⎜─, ℯ⎟   \n",
       "⎮    ⎝x   ⎠   \n",
       "⎮ ───────── dx\n",
       "⎮      x      \n",
       "⎮     e       \n",
       "⌡             \n",
       "0             "
      ]
     },
     "metadata": {},
     "output_type": "display_data"
    },
    {
     "name": "stdout",
     "output_type": "stream",
     "text": [
      "LaTeX Expression:\n"
     ]
    },
    {
     "data": {
      "text/plain": [
       "'-\\\\int_{0}^{m}\\\\frac{\\\\ln\\\\left(x\\\\right)}{e^{x}}dx'"
      ]
     },
     "metadata": {},
     "output_type": "display_data"
    },
    {
     "data": {
      "text/latex": [
       "$\\displaystyle - \\int\\limits_{0}^{m} \\frac{\\log{\\left(x \\right)}}{e^{x}}\\, dx$"
      ],
      "text/plain": [
       " m             \n",
       " ⌠             \n",
       " ⎮ log(x, ℯ)   \n",
       "-⎮ ───────── dx\n",
       " ⎮      x      \n",
       " ⎮     e       \n",
       " ⌡             \n",
       " 0             "
      ]
     },
     "metadata": {},
     "output_type": "display_data"
    },
    {
     "name": "stdout",
     "output_type": "stream",
     "text": [
      "LaTeX Expression:\n"
     ]
    },
    {
     "data": {
      "text/plain": [
       "'\\\\frac{1}{m}\\\\sum_{n=1}^{m}\\\\left(\\\\operatorname{ceil}\\\\left(\\\\frac{m}{n}\\\\right)-\\\\frac{m}{n}\\\\right)-\\\\gamma'"
      ]
     },
     "metadata": {},
     "output_type": "display_data"
    },
    {
     "data": {
      "text/latex": [
       "$\\displaystyle - \\gamma + \\frac{\\sum_{n=1}^{m} \\left(- \\frac{m}{n} + operatorname c e i l \\frac{m}{n}\\right)}{m}$"
      ],
      "text/plain": [
       "       m                                 \n",
       "      ____                               \n",
       "      ╲                                  \n",
       "       ╲                                 \n",
       "        ╲  ⎛  m                        m⎞\n",
       "        ╱  ⎜- ─ + operatorname⋅c⋅e⋅i⋅l⋅─⎟\n",
       "       ╱   ⎝  n                        n⎠\n",
       "      ╱                                  \n",
       "      ‾‾‾‾                               \n",
       "     n = 1                               \n",
       "-γ + ────────────────────────────────────\n",
       "                      m                  "
      ]
     },
     "metadata": {},
     "output_type": "display_data"
    },
    {
     "name": "stdout",
     "output_type": "stream",
     "text": [
      "LaTeX Expression:\n"
     ]
    },
    {
     "data": {
      "text/plain": [
       "'\\\\int_{1}^{m}\\\\left(\\\\frac{1}{\\\\operatorname{floor}\\\\left(x\\\\right)}-\\\\frac{1}{x}\\\\right)dx-\\\\gamma'"
      ]
     },
     "metadata": {},
     "output_type": "display_data"
    },
    {
     "data": {
      "text/latex": [
       "$\\displaystyle - \\gamma + \\int\\limits_{1}^{m} \\left(\\frac{1}{operatorname x f l o o r} - \\frac{1}{x}\\right)\\, dx$"
      ],
      "text/plain": [
       "     m                                  \n",
       "     ⌠                                  \n",
       "     ⎮ ⎛           1               1⎞   \n",
       "-γ + ⎮ ⎜──────────────────────── - ─⎟ dx\n",
       "     ⎮ ⎝operatorname⋅x⋅f⋅l⋅o⋅o⋅r   x⎠   \n",
       "     ⌡                                  \n",
       "     1                                  "
      ]
     },
     "metadata": {},
     "output_type": "display_data"
    },
    {
     "name": "stdout",
     "output_type": "stream",
     "text": [
      "LaTeX Expression:\n"
     ]
    },
    {
     "data": {
      "text/plain": [
       "'\\\\int_{1}^{m}\\\\left(\\\\frac{f\\\\left(x\\\\right)}{x^{2}}\\\\right)dx-\\\\left(1-\\\\gamma\\\\right)'"
      ]
     },
     "metadata": {},
     "output_type": "display_data"
    },
    {
     "data": {
      "text/latex": [
       "$\\displaystyle - (1 - \\gamma) + \\int\\limits_{1}^{m} \\frac{f{\\left(x \\right)}}{x^{2}}\\, dx$"
      ],
      "text/plain": [
       "           m        \n",
       "           ⌠        \n",
       "           ⎮ f(x)   \n",
       "-(1 - γ) + ⎮ ──── dx\n",
       "           ⎮   2    \n",
       "           ⎮  x     \n",
       "           ⌡        \n",
       "           1        "
      ]
     },
     "metadata": {},
     "output_type": "display_data"
    },
    {
     "name": "stdout",
     "output_type": "stream",
     "text": [
      "LaTeX Expression:\n"
     ]
    },
    {
     "data": {
      "text/plain": [
       "'\\\\int_{1}^{m}\\\\left(\\\\frac{1-f\\\\left(x\\\\right)}{x^{2}}\\\\right)dx-\\\\gamma'"
      ]
     },
     "metadata": {},
     "output_type": "display_data"
    },
    {
     "data": {
      "text/latex": [
       "$\\displaystyle - \\gamma + \\int\\limits_{1}^{m} \\frac{1 - f{\\left(x \\right)}}{x^{2}}\\, dx$"
      ],
      "text/plain": [
       "     m            \n",
       "     ⌠            \n",
       "     ⎮ 1 - f(x)   \n",
       "-γ + ⎮ ──────── dx\n",
       "     ⎮     2      \n",
       "     ⎮    x       \n",
       "     ⌡            \n",
       "     1            "
      ]
     },
     "metadata": {},
     "output_type": "display_data"
    },
    {
     "name": "stdout",
     "output_type": "stream",
     "text": [
      "LaTeX Expression:\n"
     ]
    },
    {
     "data": {
      "text/plain": [
       "'\\\\int_{0}^{\\\\infty}\\\\frac{\\\\ln\\\\left(\\\\frac{1}{x}\\\\right)}{e^{x}}dx'"
      ]
     },
     "metadata": {},
     "output_type": "display_data"
    },
    {
     "data": {
      "text/latex": [
       "$\\displaystyle \\int\\limits_{0}^{\\infty} \\frac{\\log{\\left(\\frac{1}{x} \\right)}}{e^{x}}\\, dx$"
      ],
      "text/plain": [
       "∞             \n",
       "⌠             \n",
       "⎮    ⎛1   ⎞   \n",
       "⎮ log⎜─, ℯ⎟   \n",
       "⎮    ⎝x   ⎠   \n",
       "⎮ ───────── dx\n",
       "⎮      x      \n",
       "⎮     e       \n",
       "⌡             \n",
       "0             "
      ]
     },
     "metadata": {},
     "output_type": "display_data"
    },
    {
     "name": "stdout",
     "output_type": "stream",
     "text": [
      "LaTeX Expression:\n"
     ]
    },
    {
     "data": {
      "text/plain": [
       "'\\\\int_{0}^{1}\\\\ln\\\\left(\\\\frac{1}{\\\\ln\\\\left(\\\\frac{1}{x}\\\\right)}\\\\right)dx'"
      ]
     },
     "metadata": {},
     "output_type": "display_data"
    },
    {
     "data": {
      "text/latex": [
       "$\\displaystyle \\int\\limits_{0}^{1} \\log{\\left(\\frac{1}{\\log{\\left(\\frac{1}{x} \\right)}} \\right)}\\, dx$"
      ],
      "text/plain": [
       "1                     \n",
       "⌠                     \n",
       "⎮    ⎛    1       ⎞   \n",
       "⎮ log⎜─────────, ℯ⎟ dx\n",
       "⎮    ⎜   ⎛1   ⎞   ⎟   \n",
       "⎮    ⎜log⎜─, ℯ⎟   ⎟   \n",
       "⎮    ⎝   ⎝x   ⎠   ⎠   \n",
       "⌡                     \n",
       "0                     "
      ]
     },
     "metadata": {},
     "output_type": "display_data"
    },
    {
     "name": "stdout",
     "output_type": "stream",
     "text": [
      "LaTeX Expression:\n"
     ]
    },
    {
     "data": {
      "text/plain": [
       "'b=1'"
      ]
     },
     "metadata": {},
     "output_type": "display_data"
    },
    {
     "data": {
      "text/latex": [
       "$\\displaystyle b = 1$"
      ],
      "text/plain": [
       "b = 1"
      ]
     },
     "metadata": {},
     "output_type": "display_data"
    },
    {
     "name": "stdout",
     "output_type": "stream",
     "text": [
      "Text: Mod function (x mod b)\n",
      "LaTeX Expression:\n"
     ]
    },
    {
     "data": {
      "text/plain": [
       "'d\\\\left(x,c\\\\right)=\\\\frac{c}{2}-\\\\frac{c}{\\\\pi}\\\\sum_{k=1}^{g}\\\\frac{1}{k}\\\\sin\\\\left(\\\\frac{2\\\\pi kx}{c}\\\\right)'"
      ]
     },
     "metadata": {},
     "output_type": "display_data"
    },
    {
     "data": {
      "text/latex": [
       "$\\displaystyle dleft$"
      ],
      "text/plain": [
       "dleft"
      ]
     },
     "metadata": {},
     "output_type": "display_data"
    },
    {
     "name": "stdout",
     "output_type": "stream",
     "text": [
      "LaTeX Expression:\n"
     ]
    },
    {
     "data": {
      "text/plain": [
       "'d_{1}\\\\left(x,c\\\\right)=\\\\frac{c}{2}-\\\\frac{c}{\\\\pi}\\\\tan^{-1}\\\\left(\\\\cot\\\\left(\\\\frac{\\\\pi x}{c}\\\\right)\\\\right)'"
      ]
     },
     "metadata": {},
     "output_type": "display_data"
    },
    {
     "data": {
      "text/latex": [
       "$\\displaystyle d_{1}{\\left(x,c \\right)} = \\frac{c}{2} - \\frac{c}{\\pi} \\operatorname{atan}{\\left(\\cot{\\left(\\frac{\\pi x}{c} \\right)} \\right)}$"
      ],
      "text/plain": [
       "              c   c     ⎛   ⎛π⋅x⎞⎞\n",
       "d_{1}(x, c) = ─ - ─⋅atan⎜cot⎜───⎟⎟\n",
       "              2   π     ⎝   ⎝ c ⎠⎠"
      ]
     },
     "metadata": {},
     "output_type": "display_data"
    },
    {
     "name": "stdout",
     "output_type": "stream",
     "text": [
      "LaTeX Expression:\n"
     ]
    },
    {
     "data": {
      "text/plain": [
       "'d\\\\left(x,b\\\\right)'"
      ]
     },
     "metadata": {},
     "output_type": "display_data"
    },
    {
     "data": {
      "text/latex": [
       "$\\displaystyle dleft$"
      ],
      "text/plain": [
       "dleft"
      ]
     },
     "metadata": {},
     "output_type": "display_data"
    },
    {
     "name": "stdout",
     "output_type": "stream",
     "text": [
      "LaTeX Expression:\n"
     ]
    },
    {
     "data": {
      "text/plain": [
       "'d_{1}\\\\left(x,b\\\\right)'"
      ]
     },
     "metadata": {},
     "output_type": "display_data"
    },
    {
     "data": {
      "text/latex": [
       "$\\displaystyle d_{1}{\\left(x,b \\right)}$"
      ],
      "text/plain": [
       "d_{1}(x, b)"
      ]
     },
     "metadata": {},
     "output_type": "display_data"
    },
    {
     "name": "stdout",
     "output_type": "stream",
     "text": [
      "Text: Fractional part\n",
      "LaTeX Expression:\n"
     ]
    },
    {
     "data": {
      "text/plain": [
       "'f\\\\left(x\\\\right)=\\\\frac{1}{2}-\\\\frac{1}{\\\\pi}\\\\sum_{k=1}^{g}\\\\frac{1}{k}\\\\sin\\\\left(2\\\\pi kx\\\\right)'"
      ]
     },
     "metadata": {},
     "output_type": "display_data"
    },
    {
     "data": {
      "text/latex": [
       "$\\displaystyle f{\\left(x \\right)} = \\frac{1}{2} - \\frac{\\sum_{k=1}^{g} \\frac{\\sin{\\left(2 \\pi k x \\right)}}{k}}{\\pi}$"
      ],
      "text/plain": [
       "             g               \n",
       "            ____             \n",
       "            ╲                \n",
       "             ╲               \n",
       "              ╲  sin(2⋅π⋅k⋅x)\n",
       "              ╱  ────────────\n",
       "             ╱        k      \n",
       "            ╱                \n",
       "            ‾‾‾‾             \n",
       "       1   k = 1             \n",
       "f(x) = ─ - ──────────────────\n",
       "       2           π         "
      ]
     },
     "metadata": {},
     "output_type": "display_data"
    },
    {
     "name": "stdout",
     "output_type": "stream",
     "text": [
      "LaTeX Expression:\n"
     ]
    },
    {
     "data": {
      "text/plain": [
       "'f_{1}\\\\left(x\\\\right)=\\\\frac{1}{2}-\\\\frac{1}{\\\\pi}\\\\tan^{-1}\\\\left(\\\\cot\\\\left(\\\\pi x\\\\right)\\\\right)'"
      ]
     },
     "metadata": {},
     "output_type": "display_data"
    },
    {
     "data": {
      "text/latex": [
       "$\\displaystyle f_{1}{\\left(x \\right)} = \\frac{1}{2} - \\frac{\\operatorname{atan}{\\left(\\cot{\\left(\\pi x \\right)} \\right)}}{\\pi}$"
      ],
      "text/plain": [
       "           1   atan(cot(π⋅x))\n",
       "f_{1}(x) = ─ - ──────────────\n",
       "           2         π       "
      ]
     },
     "metadata": {},
     "output_type": "display_data"
    },
    {
     "name": "stdout",
     "output_type": "stream",
     "text": [
      "Text: Floor function\n",
      "LaTeX Expression:\n"
     ]
    },
    {
     "data": {
      "text/plain": [
       "'l\\\\left(x\\\\right)=x-f\\\\left(x\\\\right)'"
      ]
     },
     "metadata": {},
     "output_type": "display_data"
    },
    {
     "data": {
      "text/latex": [
       "$\\displaystyle l{\\left(x \\right)} = x - f{\\left(x \\right)}$"
      ],
      "text/plain": [
       "l(x) = x - f(x)"
      ]
     },
     "metadata": {},
     "output_type": "display_data"
    },
    {
     "name": "stdout",
     "output_type": "stream",
     "text": [
      "LaTeX Expression:\n"
     ]
    },
    {
     "data": {
      "text/plain": [
       "'\\\\frac{1}{m}\\\\sum_{n=1}^{m}\\\\left(\\\\frac{1}{2}+\\\\frac{1}{\\\\pi}\\\\sum_{k=1}^{g}\\\\frac{1}{k}\\\\sin\\\\left(\\\\frac{2\\\\pi km}{n}\\\\right)\\\\right)'"
      ]
     },
     "metadata": {},
     "output_type": "display_data"
    },
    {
     "data": {
      "text/latex": [
       "$\\displaystyle \\frac{\\sum_{n=1}^{m} \\left(\\frac{1}{2} + \\frac{\\sum_{k=1}^{g} \\frac{\\sin{\\left(\\frac{2 \\pi k m}{n} \\right)}}{k}}{\\pi}\\right)}{m}$"
      ],
      "text/plain": [
       "    m                             \n",
       "_________                         \n",
       "╲                                 \n",
       " ╲        ⎛      g               ⎞\n",
       "  ╲       ⎜    _____             ⎟\n",
       "   ╲      ⎜    ╲                 ⎟\n",
       "    ╲     ⎜     ╲                ⎟\n",
       "     ╲    ⎜      ╲      ⎛2⋅π⋅k⋅m⎞⎟\n",
       "      ╲   ⎜       ╲  sin⎜───────⎟⎟\n",
       "       ╲  ⎜       ╱     ⎝   n   ⎠⎟\n",
       "       ╱  ⎜      ╱   ────────────⎟\n",
       "      ╱   ⎜     ╱         k      ⎟\n",
       "     ╱    ⎜    ╱                 ⎟\n",
       "    ╱     ⎜    ‾‾‾‾‾             ⎟\n",
       "   ╱      ⎜1   k = 1             ⎟\n",
       "  ╱       ⎜─ + ──────────────────⎟\n",
       " ╱        ⎝2           π         ⎠\n",
       "╱                                 \n",
       "‾‾‾‾‾‾‾‾‾                         \n",
       "  n = 1                           \n",
       "──────────────────────────────────\n",
       "                m                 "
      ]
     },
     "metadata": {},
     "output_type": "display_data"
    },
    {
     "name": "stdout",
     "output_type": "stream",
     "text": [
      "LaTeX Expression:\n"
     ]
    },
    {
     "data": {
      "text/plain": [
       "'\\\\frac{1}{2}+\\\\frac{1}{m\\\\pi}\\\\sum_{n=1}^{m}\\\\left(\\\\sum_{k=1}^{g}\\\\frac{1}{k}\\\\sin\\\\left(\\\\frac{2\\\\pi km}{n}\\\\right)\\\\right)'"
      ]
     },
     "metadata": {},
     "output_type": "display_data"
    },
    {
     "data": {
      "text/latex": [
       "$\\displaystyle \\frac{1}{2} + \\frac{\\sum_{\\substack{1 \\leq k \\leq g\\\\1 \\leq n \\leq m}} \\frac{\\sin{\\left(\\frac{2 \\pi k m}{n} \\right)}}{k}}{m \\pi}$"
      ],
      "text/plain": [
       "      m     g               \n",
       "    _____ _____             \n",
       "    ╲     ╲                 \n",
       "     ╲     ╲                \n",
       "      ╲     ╲      ⎛2⋅π⋅k⋅m⎞\n",
       "       ╲     ╲  sin⎜───────⎟\n",
       "       ╱     ╱     ⎝   n   ⎠\n",
       "      ╱     ╱   ────────────\n",
       "     ╱     ╱         k      \n",
       "    ╱     ╱                 \n",
       "    ‾‾‾‾‾ ‾‾‾‾‾             \n",
       "1   n = 1 k = 1             \n",
       "─ + ────────────────────────\n",
       "2             m⋅π           "
      ]
     },
     "metadata": {},
     "output_type": "display_data"
    },
    {
     "name": "stdout",
     "output_type": "stream",
     "text": [
      "Text: As g goes to infinity the series appraoches the mod function and as m goes to infinity the value approaches gamma\n",
      "Text: There is also an error term sigma0(n)/2n \n",
      "LaTeX Expression:\n"
     ]
    },
    {
     "data": {
      "text/plain": [
       "'\\\\sigma_{0}=\\\\sum_{k=1}^{g}\\\\frac{1}{k}\\\\left(\\\\sum_{n=1}^{k}\\\\cos\\\\left(\\\\frac{2\\\\pi km}{n}\\\\right)\\\\right)'"
      ]
     },
     "metadata": {},
     "output_type": "display_data"
    },
    {
     "data": {
      "text/latex": [
       "$\\displaystyle sigma_{0} = \\sum_{k=1}^{g} \\frac{\\sum_{n=1}^{k} \\cos{\\left(\\frac{2 \\pi k m}{n} \\right)}}{k}$"
      ],
      "text/plain": [
       "           g                       \n",
       "        ________                   \n",
       "        ╲                          \n",
       "         ╲         k               \n",
       "          ╲       ____             \n",
       "           ╲      ╲                \n",
       "            ╲      ╲               \n",
       "             ╲      ╲     ⎛2⋅π⋅k⋅m⎞\n",
       "              ╲     ╱  cos⎜───────⎟\n",
       "σ_{0} =       ╱    ╱      ⎝   n   ⎠\n",
       "             ╱    ╱                \n",
       "            ╱     ‾‾‾‾             \n",
       "           ╱     n = 1             \n",
       "          ╱      ──────────────────\n",
       "         ╱               k         \n",
       "        ╱                          \n",
       "        ‾‾‾‾‾‾‾‾                   \n",
       "         k = 1                     "
      ]
     },
     "metadata": {},
     "output_type": "display_data"
    },
    {
     "ename": "KeyboardInterrupt",
     "evalue": "",
     "output_type": "error",
     "traceback": [
      "\u001b[1;31m---------------------------------------------------------------------------\u001b[0m",
      "\u001b[1;31mKeyboardInterrupt\u001b[0m                         Traceback (most recent call last)",
      "Cell \u001b[1;32mIn[3], line 4\u001b[0m\n\u001b[0;32m      1\u001b[0m desmosGraphData \u001b[38;5;241m=\u001b[39m loadJsonData()\n\u001b[0;32m      3\u001b[0m \u001b[38;5;66;03m# Now you can pass desmosGraphData to your displayData function\u001b[39;00m\n\u001b[1;32m----> 4\u001b[0m \u001b[43mdisplayData\u001b[49m\u001b[43m(\u001b[49m\u001b[43mdesmosGraphData\u001b[49m\u001b[43m)\u001b[49m\n",
      "Cell \u001b[1;32mIn[1], line 22\u001b[0m, in \u001b[0;36mdisplayData\u001b[1;34m(desmosGraphData)\u001b[0m\n\u001b[0;32m     20\u001b[0m latex_expr \u001b[38;5;241m=\u001b[39m expr[\u001b[38;5;124m'\u001b[39m\u001b[38;5;124mcontent\u001b[39m\u001b[38;5;124m'\u001b[39m][\u001b[38;5;124m'\u001b[39m\u001b[38;5;124mlatex\u001b[39m\u001b[38;5;124m'\u001b[39m]\n\u001b[0;32m     21\u001b[0m \u001b[38;5;28;01mtry\u001b[39;00m:\n\u001b[1;32m---> 22\u001b[0m     sympy_expr \u001b[38;5;241m=\u001b[39m \u001b[43mparse_latex\u001b[49m\u001b[43m(\u001b[49m\u001b[43mlatex_expr\u001b[49m\u001b[43m)\u001b[49m\n\u001b[0;32m     23\u001b[0m     \u001b[38;5;28mprint\u001b[39m(\u001b[38;5;124m\"\u001b[39m\u001b[38;5;124mLaTeX Expression:\u001b[39m\u001b[38;5;124m\"\u001b[39m)\n\u001b[0;32m     24\u001b[0m     display(latex_expr)\n",
      "File \u001b[1;32mc:\\Users\\Charlie\\AppData\\Local\\Programs\\Python\\Python312\\Lib\\site-packages\\sympy\\parsing\\latex\\__init__.py:35\u001b[0m, in \u001b[0;36mparse_latex\u001b[1;34m(s)\u001b[0m\n\u001b[0;32m     30\u001b[0m _latex \u001b[38;5;241m=\u001b[39m import_module(\n\u001b[0;32m     31\u001b[0m     \u001b[38;5;124m'\u001b[39m\u001b[38;5;124msympy.parsing.latex._parse_latex_antlr\u001b[39m\u001b[38;5;124m'\u001b[39m,\n\u001b[0;32m     32\u001b[0m     import_kwargs\u001b[38;5;241m=\u001b[39m{\u001b[38;5;124m'\u001b[39m\u001b[38;5;124mfromlist\u001b[39m\u001b[38;5;124m'\u001b[39m: [\u001b[38;5;124m'\u001b[39m\u001b[38;5;124mX\u001b[39m\u001b[38;5;124m'\u001b[39m]})\n\u001b[0;32m     34\u001b[0m \u001b[38;5;28;01mif\u001b[39;00m _latex \u001b[38;5;129;01mis\u001b[39;00m \u001b[38;5;129;01mnot\u001b[39;00m \u001b[38;5;28;01mNone\u001b[39;00m:\n\u001b[1;32m---> 35\u001b[0m     \u001b[38;5;28;01mreturn\u001b[39;00m \u001b[43m_latex\u001b[49m\u001b[38;5;241;43m.\u001b[39;49m\u001b[43mparse_latex\u001b[49m\u001b[43m(\u001b[49m\u001b[43ms\u001b[49m\u001b[43m)\u001b[49m\n",
      "File \u001b[1;32mc:\\Users\\Charlie\\AppData\\Local\\Programs\\Python\\Python312\\Lib\\site-packages\\sympy\\parsing\\latex\\_parse_latex_antlr.py:84\u001b[0m, in \u001b[0;36mparse_latex\u001b[1;34m(sympy)\u001b[0m\n\u001b[0;32m     81\u001b[0m parser\u001b[38;5;241m.\u001b[39mremoveErrorListeners()\n\u001b[0;32m     82\u001b[0m parser\u001b[38;5;241m.\u001b[39maddErrorListener(matherror)\n\u001b[1;32m---> 84\u001b[0m relation \u001b[38;5;241m=\u001b[39m \u001b[43mparser\u001b[49m\u001b[38;5;241;43m.\u001b[39;49m\u001b[43mmath\u001b[49m\u001b[43m(\u001b[49m\u001b[43m)\u001b[49m\u001b[38;5;241m.\u001b[39mrelation()\n\u001b[0;32m     85\u001b[0m expr \u001b[38;5;241m=\u001b[39m convert_relation(relation)\n\u001b[0;32m     87\u001b[0m \u001b[38;5;28;01mreturn\u001b[39;00m expr\n",
      "File \u001b[1;32mc:\\Users\\Charlie\\AppData\\Local\\Programs\\Python\\Python312\\Lib\\site-packages\\sympy\\parsing\\latex\\_antlr\\latexparser.py:442\u001b[0m, in \u001b[0;36mLaTeXParser.math\u001b[1;34m(self)\u001b[0m\n\u001b[0;32m    440\u001b[0m     \u001b[38;5;28mself\u001b[39m\u001b[38;5;241m.\u001b[39menterOuterAlt(localctx, \u001b[38;5;241m1\u001b[39m)\n\u001b[0;32m    441\u001b[0m     \u001b[38;5;28mself\u001b[39m\u001b[38;5;241m.\u001b[39mstate \u001b[38;5;241m=\u001b[39m \u001b[38;5;241m82\u001b[39m\n\u001b[1;32m--> 442\u001b[0m     \u001b[38;5;28;43mself\u001b[39;49m\u001b[38;5;241;43m.\u001b[39;49m\u001b[43mrelation\u001b[49m\u001b[43m(\u001b[49m\u001b[38;5;241;43m0\u001b[39;49m\u001b[43m)\u001b[49m\n\u001b[0;32m    443\u001b[0m \u001b[38;5;28;01mexcept\u001b[39;00m RecognitionException \u001b[38;5;28;01mas\u001b[39;00m re:\n\u001b[0;32m    444\u001b[0m     localctx\u001b[38;5;241m.\u001b[39mexception \u001b[38;5;241m=\u001b[39m re\n",
      "File \u001b[1;32mc:\\Users\\Charlie\\AppData\\Local\\Programs\\Python\\Python312\\Lib\\site-packages\\sympy\\parsing\\latex\\_antlr\\latexparser.py:504\u001b[0m, in \u001b[0;36mLaTeXParser.relation\u001b[1;34m(self, _p)\u001b[0m\n\u001b[0;32m    502\u001b[0m \u001b[38;5;28mself\u001b[39m\u001b[38;5;241m.\u001b[39menterOuterAlt(localctx, \u001b[38;5;241m1\u001b[39m)\n\u001b[0;32m    503\u001b[0m \u001b[38;5;28mself\u001b[39m\u001b[38;5;241m.\u001b[39mstate \u001b[38;5;241m=\u001b[39m \u001b[38;5;241m85\u001b[39m\n\u001b[1;32m--> 504\u001b[0m \u001b[38;5;28;43mself\u001b[39;49m\u001b[38;5;241;43m.\u001b[39;49m\u001b[43mexpr\u001b[49m\u001b[43m(\u001b[49m\u001b[43m)\u001b[49m\n\u001b[0;32m    505\u001b[0m \u001b[38;5;28mself\u001b[39m\u001b[38;5;241m.\u001b[39m_ctx\u001b[38;5;241m.\u001b[39mstop \u001b[38;5;241m=\u001b[39m \u001b[38;5;28mself\u001b[39m\u001b[38;5;241m.\u001b[39m_input\u001b[38;5;241m.\u001b[39mLT(\u001b[38;5;241m-\u001b[39m\u001b[38;5;241m1\u001b[39m)\n\u001b[0;32m    506\u001b[0m \u001b[38;5;28mself\u001b[39m\u001b[38;5;241m.\u001b[39mstate \u001b[38;5;241m=\u001b[39m \u001b[38;5;241m92\u001b[39m\n",
      "File \u001b[1;32mc:\\Users\\Charlie\\AppData\\Local\\Programs\\Python\\Python312\\Lib\\site-packages\\sympy\\parsing\\latex\\_antlr\\latexparser.py:610\u001b[0m, in \u001b[0;36mLaTeXParser.expr\u001b[1;34m(self)\u001b[0m\n\u001b[0;32m    608\u001b[0m     \u001b[38;5;28mself\u001b[39m\u001b[38;5;241m.\u001b[39menterOuterAlt(localctx, \u001b[38;5;241m1\u001b[39m)\n\u001b[0;32m    609\u001b[0m     \u001b[38;5;28mself\u001b[39m\u001b[38;5;241m.\u001b[39mstate \u001b[38;5;241m=\u001b[39m \u001b[38;5;241m99\u001b[39m\n\u001b[1;32m--> 610\u001b[0m     \u001b[38;5;28;43mself\u001b[39;49m\u001b[38;5;241;43m.\u001b[39;49m\u001b[43madditive\u001b[49m\u001b[43m(\u001b[49m\u001b[38;5;241;43m0\u001b[39;49m\u001b[43m)\u001b[49m\n\u001b[0;32m    611\u001b[0m \u001b[38;5;28;01mexcept\u001b[39;00m RecognitionException \u001b[38;5;28;01mas\u001b[39;00m re:\n\u001b[0;32m    612\u001b[0m     localctx\u001b[38;5;241m.\u001b[39mexception \u001b[38;5;241m=\u001b[39m re\n",
      "File \u001b[1;32mc:\\Users\\Charlie\\AppData\\Local\\Programs\\Python\\Python312\\Lib\\site-packages\\sympy\\parsing\\latex\\_antlr\\latexparser.py:684\u001b[0m, in \u001b[0;36mLaTeXParser.additive\u001b[1;34m(self, _p)\u001b[0m\n\u001b[0;32m    682\u001b[0m         \u001b[38;5;28mself\u001b[39m\u001b[38;5;241m.\u001b[39mconsume()\n\u001b[0;32m    683\u001b[0m     \u001b[38;5;28mself\u001b[39m\u001b[38;5;241m.\u001b[39mstate \u001b[38;5;241m=\u001b[39m \u001b[38;5;241m106\u001b[39m\n\u001b[1;32m--> 684\u001b[0m     \u001b[38;5;28;43mself\u001b[39;49m\u001b[38;5;241;43m.\u001b[39;49m\u001b[43madditive\u001b[49m\u001b[43m(\u001b[49m\u001b[38;5;241;43m3\u001b[39;49m\u001b[43m)\u001b[49m\n\u001b[0;32m    685\u001b[0m \u001b[38;5;28mself\u001b[39m\u001b[38;5;241m.\u001b[39mstate \u001b[38;5;241m=\u001b[39m \u001b[38;5;241m111\u001b[39m\n\u001b[0;32m    686\u001b[0m \u001b[38;5;28mself\u001b[39m\u001b[38;5;241m.\u001b[39m_errHandler\u001b[38;5;241m.\u001b[39msync(\u001b[38;5;28mself\u001b[39m)\n",
      "File \u001b[1;32mc:\\Users\\Charlie\\AppData\\Local\\Programs\\Python\\Python312\\Lib\\site-packages\\sympy\\parsing\\latex\\_antlr\\latexparser.py:660\u001b[0m, in \u001b[0;36mLaTeXParser.additive\u001b[1;34m(self, _p)\u001b[0m\n\u001b[0;32m    658\u001b[0m \u001b[38;5;28mself\u001b[39m\u001b[38;5;241m.\u001b[39menterOuterAlt(localctx, \u001b[38;5;241m1\u001b[39m)\n\u001b[0;32m    659\u001b[0m \u001b[38;5;28mself\u001b[39m\u001b[38;5;241m.\u001b[39mstate \u001b[38;5;241m=\u001b[39m \u001b[38;5;241m102\u001b[39m\n\u001b[1;32m--> 660\u001b[0m \u001b[38;5;28;43mself\u001b[39;49m\u001b[38;5;241;43m.\u001b[39;49m\u001b[43mmp\u001b[49m\u001b[43m(\u001b[49m\u001b[38;5;241;43m0\u001b[39;49m\u001b[43m)\u001b[49m\n\u001b[0;32m    661\u001b[0m \u001b[38;5;28mself\u001b[39m\u001b[38;5;241m.\u001b[39m_ctx\u001b[38;5;241m.\u001b[39mstop \u001b[38;5;241m=\u001b[39m \u001b[38;5;28mself\u001b[39m\u001b[38;5;241m.\u001b[39m_input\u001b[38;5;241m.\u001b[39mLT(\u001b[38;5;241m-\u001b[39m\u001b[38;5;241m1\u001b[39m)\n\u001b[0;32m    662\u001b[0m \u001b[38;5;28mself\u001b[39m\u001b[38;5;241m.\u001b[39mstate \u001b[38;5;241m=\u001b[39m \u001b[38;5;241m109\u001b[39m\n",
      "File \u001b[1;32mc:\\Users\\Charlie\\AppData\\Local\\Programs\\Python\\Python312\\Lib\\site-packages\\sympy\\parsing\\latex\\_antlr\\latexparser.py:750\u001b[0m, in \u001b[0;36mLaTeXParser.mp\u001b[1;34m(self, _p)\u001b[0m\n\u001b[0;32m    748\u001b[0m \u001b[38;5;28mself\u001b[39m\u001b[38;5;241m.\u001b[39menterOuterAlt(localctx, \u001b[38;5;241m1\u001b[39m)\n\u001b[0;32m    749\u001b[0m \u001b[38;5;28mself\u001b[39m\u001b[38;5;241m.\u001b[39mstate \u001b[38;5;241m=\u001b[39m \u001b[38;5;241m113\u001b[39m\n\u001b[1;32m--> 750\u001b[0m \u001b[38;5;28;43mself\u001b[39;49m\u001b[38;5;241;43m.\u001b[39;49m\u001b[43munary\u001b[49m\u001b[43m(\u001b[49m\u001b[43m)\u001b[49m\n\u001b[0;32m    751\u001b[0m \u001b[38;5;28mself\u001b[39m\u001b[38;5;241m.\u001b[39m_ctx\u001b[38;5;241m.\u001b[39mstop \u001b[38;5;241m=\u001b[39m \u001b[38;5;28mself\u001b[39m\u001b[38;5;241m.\u001b[39m_input\u001b[38;5;241m.\u001b[39mLT(\u001b[38;5;241m-\u001b[39m\u001b[38;5;241m1\u001b[39m)\n\u001b[0;32m    752\u001b[0m \u001b[38;5;28mself\u001b[39m\u001b[38;5;241m.\u001b[39mstate \u001b[38;5;241m=\u001b[39m \u001b[38;5;241m120\u001b[39m\n",
      "File \u001b[1;32mc:\\Users\\Charlie\\AppData\\Local\\Programs\\Python\\Python312\\Lib\\site-packages\\sympy\\parsing\\latex\\_antlr\\latexparser.py:937\u001b[0m, in \u001b[0;36mLaTeXParser.unary\u001b[1;34m(self)\u001b[0m\n\u001b[0;32m    935\u001b[0m \u001b[38;5;28;01mif\u001b[39;00m _alt \u001b[38;5;241m==\u001b[39m \u001b[38;5;241m1\u001b[39m:\n\u001b[0;32m    936\u001b[0m     \u001b[38;5;28mself\u001b[39m\u001b[38;5;241m.\u001b[39mstate \u001b[38;5;241m=\u001b[39m \u001b[38;5;241m136\u001b[39m\n\u001b[1;32m--> 937\u001b[0m     \u001b[38;5;28;43mself\u001b[39;49m\u001b[38;5;241;43m.\u001b[39;49m\u001b[43mpostfix\u001b[49m\u001b[43m(\u001b[49m\u001b[43m)\u001b[49m\n\u001b[0;32m    939\u001b[0m \u001b[38;5;28;01melse\u001b[39;00m:\n\u001b[0;32m    940\u001b[0m     \u001b[38;5;28;01mraise\u001b[39;00m NoViableAltException(\u001b[38;5;28mself\u001b[39m)\n",
      "File \u001b[1;32mc:\\Users\\Charlie\\AppData\\Local\\Programs\\Python\\Python312\\Lib\\site-packages\\sympy\\parsing\\latex\\_antlr\\latexparser.py:1072\u001b[0m, in \u001b[0;36mLaTeXParser.postfix\u001b[1;34m(self)\u001b[0m\n\u001b[0;32m   1070\u001b[0m \u001b[38;5;28mself\u001b[39m\u001b[38;5;241m.\u001b[39menterOuterAlt(localctx, \u001b[38;5;241m1\u001b[39m)\n\u001b[0;32m   1071\u001b[0m \u001b[38;5;28mself\u001b[39m\u001b[38;5;241m.\u001b[39mstate \u001b[38;5;241m=\u001b[39m \u001b[38;5;241m154\u001b[39m\n\u001b[1;32m-> 1072\u001b[0m \u001b[38;5;28;43mself\u001b[39;49m\u001b[38;5;241;43m.\u001b[39;49m\u001b[43mexp\u001b[49m\u001b[43m(\u001b[49m\u001b[38;5;241;43m0\u001b[39;49m\u001b[43m)\u001b[49m\n\u001b[0;32m   1073\u001b[0m \u001b[38;5;28mself\u001b[39m\u001b[38;5;241m.\u001b[39mstate \u001b[38;5;241m=\u001b[39m \u001b[38;5;241m158\u001b[39m\n\u001b[0;32m   1074\u001b[0m \u001b[38;5;28mself\u001b[39m\u001b[38;5;241m.\u001b[39m_errHandler\u001b[38;5;241m.\u001b[39msync(\u001b[38;5;28mself\u001b[39m)\n",
      "File \u001b[1;32mc:\\Users\\Charlie\\AppData\\Local\\Programs\\Python\\Python312\\Lib\\site-packages\\sympy\\parsing\\latex\\_antlr\\latexparser.py:1438\u001b[0m, in \u001b[0;36mLaTeXParser.exp\u001b[1;34m(self, _p)\u001b[0m\n\u001b[0;32m   1436\u001b[0m \u001b[38;5;28mself\u001b[39m\u001b[38;5;241m.\u001b[39menterOuterAlt(localctx, \u001b[38;5;241m1\u001b[39m)\n\u001b[0;32m   1437\u001b[0m \u001b[38;5;28mself\u001b[39m\u001b[38;5;241m.\u001b[39mstate \u001b[38;5;241m=\u001b[39m \u001b[38;5;241m197\u001b[39m\n\u001b[1;32m-> 1438\u001b[0m \u001b[38;5;28;43mself\u001b[39;49m\u001b[38;5;241;43m.\u001b[39;49m\u001b[43mcomp\u001b[49m\u001b[43m(\u001b[49m\u001b[43m)\u001b[49m\n\u001b[0;32m   1439\u001b[0m \u001b[38;5;28mself\u001b[39m\u001b[38;5;241m.\u001b[39m_ctx\u001b[38;5;241m.\u001b[39mstop \u001b[38;5;241m=\u001b[39m \u001b[38;5;28mself\u001b[39m\u001b[38;5;241m.\u001b[39m_input\u001b[38;5;241m.\u001b[39mLT(\u001b[38;5;241m-\u001b[39m\u001b[38;5;241m1\u001b[39m)\n\u001b[0;32m   1440\u001b[0m \u001b[38;5;28mself\u001b[39m\u001b[38;5;241m.\u001b[39mstate \u001b[38;5;241m=\u001b[39m \u001b[38;5;241m213\u001b[39m\n",
      "File \u001b[1;32mc:\\Users\\Charlie\\AppData\\Local\\Programs\\Python\\Python312\\Lib\\site-packages\\sympy\\parsing\\latex\\_antlr\\latexparser.py:1663\u001b[0m, in \u001b[0;36mLaTeXParser.comp\u001b[1;34m(self)\u001b[0m\n\u001b[0;32m   1661\u001b[0m     \u001b[38;5;28mself\u001b[39m\u001b[38;5;241m.\u001b[39menterOuterAlt(localctx, \u001b[38;5;241m3\u001b[39m)\n\u001b[0;32m   1662\u001b[0m     \u001b[38;5;28mself\u001b[39m\u001b[38;5;241m.\u001b[39mstate \u001b[38;5;241m=\u001b[39m \u001b[38;5;241m238\u001b[39m\n\u001b[1;32m-> 1663\u001b[0m     \u001b[38;5;28;43mself\u001b[39;49m\u001b[38;5;241;43m.\u001b[39;49m\u001b[43mfunc\u001b[49m\u001b[43m(\u001b[49m\u001b[43m)\u001b[49m\n\u001b[0;32m   1664\u001b[0m     \u001b[38;5;28;01mpass\u001b[39;00m\n\u001b[0;32m   1666\u001b[0m \u001b[38;5;28;01melif\u001b[39;00m la_ \u001b[38;5;241m==\u001b[39m \u001b[38;5;241m4\u001b[39m:\n",
      "File \u001b[1;32mc:\\Users\\Charlie\\AppData\\Local\\Programs\\Python\\Python312\\Lib\\site-packages\\sympy\\parsing\\latex\\_antlr\\latexparser.py:3091\u001b[0m, in \u001b[0;36mLaTeXParser.func\u001b[1;34m(self)\u001b[0m\n\u001b[0;32m   3088\u001b[0m         \u001b[38;5;28;01mraise\u001b[39;00m NoViableAltException(\u001b[38;5;28mself\u001b[39m)\n\u001b[0;32m   3090\u001b[0m     \u001b[38;5;28mself\u001b[39m\u001b[38;5;241m.\u001b[39mstate \u001b[38;5;241m=\u001b[39m \u001b[38;5;241m454\u001b[39m\n\u001b[1;32m-> 3091\u001b[0m     \u001b[38;5;28;43mself\u001b[39;49m\u001b[38;5;241;43m.\u001b[39;49m\u001b[43mmp\u001b[49m\u001b[43m(\u001b[49m\u001b[38;5;241;43m0\u001b[39;49m\u001b[43m)\u001b[49m\n\u001b[0;32m   3092\u001b[0m     \u001b[38;5;28;01mpass\u001b[39;00m\n\u001b[0;32m   3093\u001b[0m \u001b[38;5;28;01melif\u001b[39;00m token \u001b[38;5;129;01min\u001b[39;00m [\u001b[38;5;241m32\u001b[39m]:\n",
      "File \u001b[1;32mc:\\Users\\Charlie\\AppData\\Local\\Programs\\Python\\Python312\\Lib\\site-packages\\sympy\\parsing\\latex\\_antlr\\latexparser.py:750\u001b[0m, in \u001b[0;36mLaTeXParser.mp\u001b[1;34m(self, _p)\u001b[0m\n\u001b[0;32m    748\u001b[0m \u001b[38;5;28mself\u001b[39m\u001b[38;5;241m.\u001b[39menterOuterAlt(localctx, \u001b[38;5;241m1\u001b[39m)\n\u001b[0;32m    749\u001b[0m \u001b[38;5;28mself\u001b[39m\u001b[38;5;241m.\u001b[39mstate \u001b[38;5;241m=\u001b[39m \u001b[38;5;241m113\u001b[39m\n\u001b[1;32m--> 750\u001b[0m \u001b[38;5;28;43mself\u001b[39;49m\u001b[38;5;241;43m.\u001b[39;49m\u001b[43munary\u001b[49m\u001b[43m(\u001b[49m\u001b[43m)\u001b[49m\n\u001b[0;32m    751\u001b[0m \u001b[38;5;28mself\u001b[39m\u001b[38;5;241m.\u001b[39m_ctx\u001b[38;5;241m.\u001b[39mstop \u001b[38;5;241m=\u001b[39m \u001b[38;5;28mself\u001b[39m\u001b[38;5;241m.\u001b[39m_input\u001b[38;5;241m.\u001b[39mLT(\u001b[38;5;241m-\u001b[39m\u001b[38;5;241m1\u001b[39m)\n\u001b[0;32m    752\u001b[0m \u001b[38;5;28mself\u001b[39m\u001b[38;5;241m.\u001b[39mstate \u001b[38;5;241m=\u001b[39m \u001b[38;5;241m120\u001b[39m\n",
      "File \u001b[1;32mc:\\Users\\Charlie\\AppData\\Local\\Programs\\Python\\Python312\\Lib\\site-packages\\sympy\\parsing\\latex\\_antlr\\latexparser.py:943\u001b[0m, in \u001b[0;36mLaTeXParser.unary\u001b[1;34m(self)\u001b[0m\n\u001b[0;32m    941\u001b[0m         \u001b[38;5;28mself\u001b[39m\u001b[38;5;241m.\u001b[39mstate \u001b[38;5;241m=\u001b[39m \u001b[38;5;241m139\u001b[39m\n\u001b[0;32m    942\u001b[0m         \u001b[38;5;28mself\u001b[39m\u001b[38;5;241m.\u001b[39m_errHandler\u001b[38;5;241m.\u001b[39msync(\u001b[38;5;28mself\u001b[39m)\n\u001b[1;32m--> 943\u001b[0m         _alt \u001b[38;5;241m=\u001b[39m \u001b[38;5;28;43mself\u001b[39;49m\u001b[38;5;241;43m.\u001b[39;49m\u001b[43m_interp\u001b[49m\u001b[38;5;241;43m.\u001b[39;49m\u001b[43madaptivePredict\u001b[49m\u001b[43m(\u001b[49m\u001b[38;5;28;43mself\u001b[39;49m\u001b[38;5;241;43m.\u001b[39;49m\u001b[43m_input\u001b[49m\u001b[43m,\u001b[49m\u001b[38;5;241;43m4\u001b[39;49m\u001b[43m,\u001b[49m\u001b[38;5;28;43mself\u001b[39;49m\u001b[38;5;241;43m.\u001b[39;49m\u001b[43m_ctx\u001b[49m\u001b[43m)\u001b[49m\n\u001b[0;32m    945\u001b[0m     \u001b[38;5;28;01mpass\u001b[39;00m\n\u001b[0;32m    946\u001b[0m \u001b[38;5;28;01melse\u001b[39;00m:\n",
      "File \u001b[1;32mc:\\Users\\Charlie\\AppData\\Local\\Programs\\Python\\Python312\\Lib\\site-packages\\antlr4\\atn\\ParserATNSimulator.py:346\u001b[0m, in \u001b[0;36mParserATNSimulator.adaptivePredict\u001b[1;34m(self, input, decision, outerContext)\u001b[0m\n\u001b[0;32m    343\u001b[0m         s0 \u001b[38;5;241m=\u001b[39m \u001b[38;5;28mself\u001b[39m\u001b[38;5;241m.\u001b[39maddDFAState(dfa, DFAState(configs\u001b[38;5;241m=\u001b[39ms0_closure))\n\u001b[0;32m    344\u001b[0m         dfa\u001b[38;5;241m.\u001b[39ms0 \u001b[38;5;241m=\u001b[39m s0\n\u001b[1;32m--> 346\u001b[0m alt \u001b[38;5;241m=\u001b[39m \u001b[38;5;28;43mself\u001b[39;49m\u001b[38;5;241;43m.\u001b[39;49m\u001b[43mexecATN\u001b[49m\u001b[43m(\u001b[49m\u001b[43mdfa\u001b[49m\u001b[43m,\u001b[49m\u001b[43m \u001b[49m\u001b[43ms0\u001b[49m\u001b[43m,\u001b[49m\u001b[43m \u001b[49m\u001b[38;5;28;43minput\u001b[39;49m\u001b[43m,\u001b[49m\u001b[43m \u001b[49m\u001b[43mindex\u001b[49m\u001b[43m,\u001b[49m\u001b[43m \u001b[49m\u001b[43mouterContext\u001b[49m\u001b[43m)\u001b[49m\n\u001b[0;32m    347\u001b[0m \u001b[38;5;28;01mif\u001b[39;00m ParserATNSimulator\u001b[38;5;241m.\u001b[39mdebug:\n\u001b[0;32m    348\u001b[0m     \u001b[38;5;28mprint\u001b[39m(\u001b[38;5;124m\"\u001b[39m\u001b[38;5;124mDFA after predictATN: \u001b[39m\u001b[38;5;124m\"\u001b[39m \u001b[38;5;241m+\u001b[39m dfa\u001b[38;5;241m.\u001b[39mtoString(\u001b[38;5;28mself\u001b[39m\u001b[38;5;241m.\u001b[39mparser\u001b[38;5;241m.\u001b[39mliteralNames))\n",
      "File \u001b[1;32mc:\\Users\\Charlie\\AppData\\Local\\Programs\\Python\\Python312\\Lib\\site-packages\\antlr4\\atn\\ParserATNSimulator.py:446\u001b[0m, in \u001b[0;36mParserATNSimulator.execATN\u001b[1;34m(self, dfa, s0, input, startIndex, outerContext)\u001b[0m\n\u001b[0;32m    444\u001b[0m     s0_closure \u001b[38;5;241m=\u001b[39m \u001b[38;5;28mself\u001b[39m\u001b[38;5;241m.\u001b[39mcomputeStartState(dfa\u001b[38;5;241m.\u001b[39matnStartState, outerContext, fullCtx)\n\u001b[0;32m    445\u001b[0m     \u001b[38;5;28mself\u001b[39m\u001b[38;5;241m.\u001b[39mreportAttemptingFullContext(dfa, conflictingAlts, D\u001b[38;5;241m.\u001b[39mconfigs, startIndex, \u001b[38;5;28minput\u001b[39m\u001b[38;5;241m.\u001b[39mindex)\n\u001b[1;32m--> 446\u001b[0m     alt \u001b[38;5;241m=\u001b[39m \u001b[38;5;28;43mself\u001b[39;49m\u001b[38;5;241;43m.\u001b[39;49m\u001b[43mexecATNWithFullContext\u001b[49m\u001b[43m(\u001b[49m\u001b[43mdfa\u001b[49m\u001b[43m,\u001b[49m\u001b[43m \u001b[49m\u001b[43mD\u001b[49m\u001b[43m,\u001b[49m\u001b[43m \u001b[49m\u001b[43ms0_closure\u001b[49m\u001b[43m,\u001b[49m\u001b[43m \u001b[49m\u001b[38;5;28;43minput\u001b[39;49m\u001b[43m,\u001b[49m\u001b[43m \u001b[49m\u001b[43mstartIndex\u001b[49m\u001b[43m,\u001b[49m\u001b[43m \u001b[49m\u001b[43mouterContext\u001b[49m\u001b[43m)\u001b[49m\n\u001b[0;32m    447\u001b[0m     \u001b[38;5;28;01mreturn\u001b[39;00m alt\n\u001b[0;32m    449\u001b[0m \u001b[38;5;28;01mif\u001b[39;00m D\u001b[38;5;241m.\u001b[39misAcceptState:\n",
      "File \u001b[1;32mc:\\Users\\Charlie\\AppData\\Local\\Programs\\Python\\Python312\\Lib\\site-packages\\antlr4\\atn\\ParserATNSimulator.py:575\u001b[0m, in \u001b[0;36mParserATNSimulator.execATNWithFullContext\u001b[1;34m(self, dfa, D, s0, input, startIndex, outerContext)\u001b[0m\n\u001b[0;32m    573\u001b[0m predictedAlt \u001b[38;5;241m=\u001b[39m \u001b[38;5;241m-\u001b[39m\u001b[38;5;241m1\u001b[39m\n\u001b[0;32m    574\u001b[0m \u001b[38;5;28;01mwhile\u001b[39;00m (\u001b[38;5;28;01mTrue\u001b[39;00m): \u001b[38;5;66;03m# while more work\u001b[39;00m\n\u001b[1;32m--> 575\u001b[0m     reach \u001b[38;5;241m=\u001b[39m \u001b[38;5;28;43mself\u001b[39;49m\u001b[38;5;241;43m.\u001b[39;49m\u001b[43mcomputeReachSet\u001b[49m\u001b[43m(\u001b[49m\u001b[43mprevious\u001b[49m\u001b[43m,\u001b[49m\u001b[43m \u001b[49m\u001b[43mt\u001b[49m\u001b[43m,\u001b[49m\u001b[43m \u001b[49m\u001b[43mfullCtx\u001b[49m\u001b[43m)\u001b[49m\n\u001b[0;32m    576\u001b[0m     \u001b[38;5;28;01mif\u001b[39;00m reach \u001b[38;5;129;01mis\u001b[39;00m \u001b[38;5;28;01mNone\u001b[39;00m:\n\u001b[0;32m    577\u001b[0m         \u001b[38;5;66;03m# if any configs in previous dipped into outer context, that\u001b[39;00m\n\u001b[0;32m    578\u001b[0m         \u001b[38;5;66;03m# means that input up to t actually finished entry rule\u001b[39;00m\n\u001b[1;32m   (...)\u001b[0m\n\u001b[0;32m    584\u001b[0m         \u001b[38;5;66;03m# If conflict in states that dip out, choose min since we\u001b[39;00m\n\u001b[0;32m    585\u001b[0m         \u001b[38;5;66;03m# will get error no matter what.\u001b[39;00m\n\u001b[0;32m    586\u001b[0m         e \u001b[38;5;241m=\u001b[39m \u001b[38;5;28mself\u001b[39m\u001b[38;5;241m.\u001b[39mnoViableAlt(\u001b[38;5;28minput\u001b[39m, outerContext, previous, startIndex)\n",
      "File \u001b[1;32mc:\\Users\\Charlie\\AppData\\Local\\Programs\\Python\\Python312\\Lib\\site-packages\\antlr4\\atn\\ParserATNSimulator.py:734\u001b[0m, in \u001b[0;36mParserATNSimulator.computeReachSet\u001b[1;34m(self, closure, t, fullCtx)\u001b[0m\n\u001b[0;32m    732\u001b[0m     treatEofAsEpsilon \u001b[38;5;241m=\u001b[39m t \u001b[38;5;241m==\u001b[39m Token\u001b[38;5;241m.\u001b[39mEOF\n\u001b[0;32m    733\u001b[0m     \u001b[38;5;28;01mfor\u001b[39;00m c \u001b[38;5;129;01min\u001b[39;00m intermediate:\n\u001b[1;32m--> 734\u001b[0m         \u001b[38;5;28;43mself\u001b[39;49m\u001b[38;5;241;43m.\u001b[39;49m\u001b[43mclosure\u001b[49m\u001b[43m(\u001b[49m\u001b[43mc\u001b[49m\u001b[43m,\u001b[49m\u001b[43m \u001b[49m\u001b[43mreach\u001b[49m\u001b[43m,\u001b[49m\u001b[43m \u001b[49m\u001b[43mclosureBusy\u001b[49m\u001b[43m,\u001b[49m\u001b[43m \u001b[49m\u001b[38;5;28;43;01mFalse\u001b[39;49;00m\u001b[43m,\u001b[49m\u001b[43m \u001b[49m\u001b[43mfullCtx\u001b[49m\u001b[43m,\u001b[49m\u001b[43m \u001b[49m\u001b[43mtreatEofAsEpsilon\u001b[49m\u001b[43m)\u001b[49m\n\u001b[0;32m    736\u001b[0m \u001b[38;5;28;01mif\u001b[39;00m t \u001b[38;5;241m==\u001b[39m Token\u001b[38;5;241m.\u001b[39mEOF:\n\u001b[0;32m    737\u001b[0m     \u001b[38;5;66;03m# After consuming EOF no additional input is possible, so we are\u001b[39;00m\n\u001b[0;32m    738\u001b[0m     \u001b[38;5;66;03m# only interested in configurations which reached the end of the\u001b[39;00m\n\u001b[1;32m   (...)\u001b[0m\n\u001b[0;32m    752\u001b[0m     \u001b[38;5;66;03m# required.\u001b[39;00m\n\u001b[0;32m    753\u001b[0m     \u001b[38;5;66;03m#\u001b[39;00m\n\u001b[0;32m    754\u001b[0m     reach \u001b[38;5;241m=\u001b[39m \u001b[38;5;28mself\u001b[39m\u001b[38;5;241m.\u001b[39mremoveAllConfigsNotInRuleStopState(reach, reach \u001b[38;5;129;01mis\u001b[39;00m intermediate)\n",
      "File \u001b[1;32mc:\\Users\\Charlie\\AppData\\Local\\Programs\\Python\\Python312\\Lib\\site-packages\\antlr4\\atn\\ParserATNSimulator.py:1093\u001b[0m, in \u001b[0;36mParserATNSimulator.closure\u001b[1;34m(self, config, configs, closureBusy, collectPredicates, fullCtx, treatEofAsEpsilon)\u001b[0m\n\u001b[0;32m   1091\u001b[0m \u001b[38;5;28;01mdef\u001b[39;00m \u001b[38;5;21mclosure\u001b[39m(\u001b[38;5;28mself\u001b[39m, config:ATNConfig, configs:ATNConfigSet, closureBusy:\u001b[38;5;28mset\u001b[39m, collectPredicates:\u001b[38;5;28mbool\u001b[39m, fullCtx:\u001b[38;5;28mbool\u001b[39m, treatEofAsEpsilon:\u001b[38;5;28mbool\u001b[39m):\n\u001b[0;32m   1092\u001b[0m     initialDepth \u001b[38;5;241m=\u001b[39m \u001b[38;5;241m0\u001b[39m\n\u001b[1;32m-> 1093\u001b[0m     \u001b[38;5;28;43mself\u001b[39;49m\u001b[38;5;241;43m.\u001b[39;49m\u001b[43mclosureCheckingStopState\u001b[49m\u001b[43m(\u001b[49m\u001b[43mconfig\u001b[49m\u001b[43m,\u001b[49m\u001b[43m \u001b[49m\u001b[43mconfigs\u001b[49m\u001b[43m,\u001b[49m\u001b[43m \u001b[49m\u001b[43mclosureBusy\u001b[49m\u001b[43m,\u001b[49m\u001b[43m \u001b[49m\u001b[43mcollectPredicates\u001b[49m\u001b[43m,\u001b[49m\n\u001b[0;32m   1094\u001b[0m \u001b[43m                             \u001b[49m\u001b[43mfullCtx\u001b[49m\u001b[43m,\u001b[49m\u001b[43m \u001b[49m\u001b[43minitialDepth\u001b[49m\u001b[43m,\u001b[49m\u001b[43m \u001b[49m\u001b[43mtreatEofAsEpsilon\u001b[49m\u001b[43m)\u001b[49m\n",
      "File \u001b[1;32mc:\\Users\\Charlie\\AppData\\Local\\Programs\\Python\\Python312\\Lib\\site-packages\\antlr4\\atn\\ParserATNSimulator.py:1136\u001b[0m, in \u001b[0;36mParserATNSimulator.closureCheckingStopState\u001b[1;34m(self, config, configs, closureBusy, collectPredicates, fullCtx, depth, treatEofAsEpsilon)\u001b[0m\n\u001b[0;32m   1133\u001b[0m         \u001b[38;5;28;01mif\u001b[39;00m ParserATNSimulator\u001b[38;5;241m.\u001b[39mdebug:\n\u001b[0;32m   1134\u001b[0m             \u001b[38;5;28mprint\u001b[39m(\u001b[38;5;124m\"\u001b[39m\u001b[38;5;124mFALLING off rule \u001b[39m\u001b[38;5;124m\"\u001b[39m \u001b[38;5;241m+\u001b[39m \u001b[38;5;28mself\u001b[39m\u001b[38;5;241m.\u001b[39mgetRuleName(config\u001b[38;5;241m.\u001b[39mstate\u001b[38;5;241m.\u001b[39mruleIndex))\n\u001b[1;32m-> 1136\u001b[0m \u001b[38;5;28;43mself\u001b[39;49m\u001b[38;5;241;43m.\u001b[39;49m\u001b[43mclosure_\u001b[49m\u001b[43m(\u001b[49m\u001b[43mconfig\u001b[49m\u001b[43m,\u001b[49m\u001b[43m \u001b[49m\u001b[43mconfigs\u001b[49m\u001b[43m,\u001b[49m\u001b[43m \u001b[49m\u001b[43mclosureBusy\u001b[49m\u001b[43m,\u001b[49m\u001b[43m \u001b[49m\u001b[43mcollectPredicates\u001b[49m\u001b[43m,\u001b[49m\u001b[43m \u001b[49m\u001b[43mfullCtx\u001b[49m\u001b[43m,\u001b[49m\u001b[43m \u001b[49m\u001b[43mdepth\u001b[49m\u001b[43m,\u001b[49m\u001b[43m \u001b[49m\u001b[43mtreatEofAsEpsilon\u001b[49m\u001b[43m)\u001b[49m\n",
      "File \u001b[1;32mc:\\Users\\Charlie\\AppData\\Local\\Programs\\Python\\Python312\\Lib\\site-packages\\antlr4\\atn\\ParserATNSimulator.py:1187\u001b[0m, in \u001b[0;36mParserATNSimulator.closure_\u001b[1;34m(self, config, configs, closureBusy, collectPredicates, fullCtx, depth, treatEofAsEpsilon)\u001b[0m\n\u001b[0;32m   1184\u001b[0m         \u001b[38;5;28;01mif\u001b[39;00m newDepth \u001b[38;5;241m>\u001b[39m\u001b[38;5;241m=\u001b[39m \u001b[38;5;241m0\u001b[39m:\n\u001b[0;32m   1185\u001b[0m             newDepth \u001b[38;5;241m+\u001b[39m\u001b[38;5;241m=\u001b[39m \u001b[38;5;241m1\u001b[39m\n\u001b[1;32m-> 1187\u001b[0m \u001b[38;5;28;43mself\u001b[39;49m\u001b[38;5;241;43m.\u001b[39;49m\u001b[43mclosureCheckingStopState\u001b[49m\u001b[43m(\u001b[49m\u001b[43mc\u001b[49m\u001b[43m,\u001b[49m\u001b[43m \u001b[49m\u001b[43mconfigs\u001b[49m\u001b[43m,\u001b[49m\u001b[43m \u001b[49m\u001b[43mclosureBusy\u001b[49m\u001b[43m,\u001b[49m\u001b[43m \u001b[49m\u001b[43mcontinueCollecting\u001b[49m\u001b[43m,\u001b[49m\u001b[43m \u001b[49m\u001b[43mfullCtx\u001b[49m\u001b[43m,\u001b[49m\u001b[43m \u001b[49m\u001b[43mnewDepth\u001b[49m\u001b[43m,\u001b[49m\u001b[43m \u001b[49m\u001b[43mtreatEofAsEpsilon\u001b[49m\u001b[43m)\u001b[49m\n",
      "File \u001b[1;32mc:\\Users\\Charlie\\AppData\\Local\\Programs\\Python\\Python312\\Lib\\site-packages\\antlr4\\atn\\ParserATNSimulator.py:1136\u001b[0m, in \u001b[0;36mParserATNSimulator.closureCheckingStopState\u001b[1;34m(self, config, configs, closureBusy, collectPredicates, fullCtx, depth, treatEofAsEpsilon)\u001b[0m\n\u001b[0;32m   1133\u001b[0m         \u001b[38;5;28;01mif\u001b[39;00m ParserATNSimulator\u001b[38;5;241m.\u001b[39mdebug:\n\u001b[0;32m   1134\u001b[0m             \u001b[38;5;28mprint\u001b[39m(\u001b[38;5;124m\"\u001b[39m\u001b[38;5;124mFALLING off rule \u001b[39m\u001b[38;5;124m\"\u001b[39m \u001b[38;5;241m+\u001b[39m \u001b[38;5;28mself\u001b[39m\u001b[38;5;241m.\u001b[39mgetRuleName(config\u001b[38;5;241m.\u001b[39mstate\u001b[38;5;241m.\u001b[39mruleIndex))\n\u001b[1;32m-> 1136\u001b[0m \u001b[38;5;28;43mself\u001b[39;49m\u001b[38;5;241;43m.\u001b[39;49m\u001b[43mclosure_\u001b[49m\u001b[43m(\u001b[49m\u001b[43mconfig\u001b[49m\u001b[43m,\u001b[49m\u001b[43m \u001b[49m\u001b[43mconfigs\u001b[49m\u001b[43m,\u001b[49m\u001b[43m \u001b[49m\u001b[43mclosureBusy\u001b[49m\u001b[43m,\u001b[49m\u001b[43m \u001b[49m\u001b[43mcollectPredicates\u001b[49m\u001b[43m,\u001b[49m\u001b[43m \u001b[49m\u001b[43mfullCtx\u001b[49m\u001b[43m,\u001b[49m\u001b[43m \u001b[49m\u001b[43mdepth\u001b[49m\u001b[43m,\u001b[49m\u001b[43m \u001b[49m\u001b[43mtreatEofAsEpsilon\u001b[49m\u001b[43m)\u001b[49m\n",
      "File \u001b[1;32mc:\\Users\\Charlie\\AppData\\Local\\Programs\\Python\\Python312\\Lib\\site-packages\\antlr4\\atn\\ParserATNSimulator.py:1187\u001b[0m, in \u001b[0;36mParserATNSimulator.closure_\u001b[1;34m(self, config, configs, closureBusy, collectPredicates, fullCtx, depth, treatEofAsEpsilon)\u001b[0m\n\u001b[0;32m   1184\u001b[0m         \u001b[38;5;28;01mif\u001b[39;00m newDepth \u001b[38;5;241m>\u001b[39m\u001b[38;5;241m=\u001b[39m \u001b[38;5;241m0\u001b[39m:\n\u001b[0;32m   1185\u001b[0m             newDepth \u001b[38;5;241m+\u001b[39m\u001b[38;5;241m=\u001b[39m \u001b[38;5;241m1\u001b[39m\n\u001b[1;32m-> 1187\u001b[0m \u001b[38;5;28;43mself\u001b[39;49m\u001b[38;5;241;43m.\u001b[39;49m\u001b[43mclosureCheckingStopState\u001b[49m\u001b[43m(\u001b[49m\u001b[43mc\u001b[49m\u001b[43m,\u001b[49m\u001b[43m \u001b[49m\u001b[43mconfigs\u001b[49m\u001b[43m,\u001b[49m\u001b[43m \u001b[49m\u001b[43mclosureBusy\u001b[49m\u001b[43m,\u001b[49m\u001b[43m \u001b[49m\u001b[43mcontinueCollecting\u001b[49m\u001b[43m,\u001b[49m\u001b[43m \u001b[49m\u001b[43mfullCtx\u001b[49m\u001b[43m,\u001b[49m\u001b[43m \u001b[49m\u001b[43mnewDepth\u001b[49m\u001b[43m,\u001b[49m\u001b[43m \u001b[49m\u001b[43mtreatEofAsEpsilon\u001b[49m\u001b[43m)\u001b[49m\n",
      "File \u001b[1;32mc:\\Users\\Charlie\\AppData\\Local\\Programs\\Python\\Python312\\Lib\\site-packages\\antlr4\\atn\\ParserATNSimulator.py:1125\u001b[0m, in \u001b[0;36mParserATNSimulator.closureCheckingStopState\u001b[1;34m(self, config, configs, closureBusy, collectPredicates, fullCtx, depth, treatEofAsEpsilon)\u001b[0m\n\u001b[0;32m   1121\u001b[0m         \u001b[38;5;66;03m# While we have context to pop back from, we may have\u001b[39;00m\n\u001b[0;32m   1122\u001b[0m         \u001b[38;5;66;03m# gotten that context AFTER having falling off a rule.\u001b[39;00m\n\u001b[0;32m   1123\u001b[0m         \u001b[38;5;66;03m# Make sure we track that we are now out of context.\u001b[39;00m\n\u001b[0;32m   1124\u001b[0m         c\u001b[38;5;241m.\u001b[39mreachesIntoOuterContext \u001b[38;5;241m=\u001b[39m config\u001b[38;5;241m.\u001b[39mreachesIntoOuterContext\n\u001b[1;32m-> 1125\u001b[0m         \u001b[38;5;28;43mself\u001b[39;49m\u001b[38;5;241;43m.\u001b[39;49m\u001b[43mclosureCheckingStopState\u001b[49m\u001b[43m(\u001b[49m\u001b[43mc\u001b[49m\u001b[43m,\u001b[49m\u001b[43m \u001b[49m\u001b[43mconfigs\u001b[49m\u001b[43m,\u001b[49m\u001b[43m \u001b[49m\u001b[43mclosureBusy\u001b[49m\u001b[43m,\u001b[49m\u001b[43m \u001b[49m\u001b[43mcollectPredicates\u001b[49m\u001b[43m,\u001b[49m\u001b[43m \u001b[49m\u001b[43mfullCtx\u001b[49m\u001b[43m,\u001b[49m\u001b[43m \u001b[49m\u001b[43mdepth\u001b[49m\u001b[43m \u001b[49m\u001b[38;5;241;43m-\u001b[39;49m\u001b[43m \u001b[49m\u001b[38;5;241;43m1\u001b[39;49m\u001b[43m,\u001b[49m\u001b[43m \u001b[49m\u001b[43mtreatEofAsEpsilon\u001b[49m\u001b[43m)\u001b[49m\n\u001b[0;32m   1126\u001b[0m     \u001b[38;5;28;01mreturn\u001b[39;00m\n\u001b[0;32m   1127\u001b[0m \u001b[38;5;28;01melif\u001b[39;00m fullCtx:\n\u001b[0;32m   1128\u001b[0m     \u001b[38;5;66;03m# reached end of start rule\u001b[39;00m\n",
      "    \u001b[1;31m[... skipping similar frames: ParserATNSimulator.closureCheckingStopState at line 1136 (1 times), ParserATNSimulator.closure_ at line 1187 (1 times)]\u001b[0m\n",
      "File \u001b[1;32mc:\\Users\\Charlie\\AppData\\Local\\Programs\\Python\\Python312\\Lib\\site-packages\\antlr4\\atn\\ParserATNSimulator.py:1125\u001b[0m, in \u001b[0;36mParserATNSimulator.closureCheckingStopState\u001b[1;34m(self, config, configs, closureBusy, collectPredicates, fullCtx, depth, treatEofAsEpsilon)\u001b[0m\n\u001b[0;32m   1121\u001b[0m         \u001b[38;5;66;03m# While we have context to pop back from, we may have\u001b[39;00m\n\u001b[0;32m   1122\u001b[0m         \u001b[38;5;66;03m# gotten that context AFTER having falling off a rule.\u001b[39;00m\n\u001b[0;32m   1123\u001b[0m         \u001b[38;5;66;03m# Make sure we track that we are now out of context.\u001b[39;00m\n\u001b[0;32m   1124\u001b[0m         c\u001b[38;5;241m.\u001b[39mreachesIntoOuterContext \u001b[38;5;241m=\u001b[39m config\u001b[38;5;241m.\u001b[39mreachesIntoOuterContext\n\u001b[1;32m-> 1125\u001b[0m         \u001b[38;5;28;43mself\u001b[39;49m\u001b[38;5;241;43m.\u001b[39;49m\u001b[43mclosureCheckingStopState\u001b[49m\u001b[43m(\u001b[49m\u001b[43mc\u001b[49m\u001b[43m,\u001b[49m\u001b[43m \u001b[49m\u001b[43mconfigs\u001b[49m\u001b[43m,\u001b[49m\u001b[43m \u001b[49m\u001b[43mclosureBusy\u001b[49m\u001b[43m,\u001b[49m\u001b[43m \u001b[49m\u001b[43mcollectPredicates\u001b[49m\u001b[43m,\u001b[49m\u001b[43m \u001b[49m\u001b[43mfullCtx\u001b[49m\u001b[43m,\u001b[49m\u001b[43m \u001b[49m\u001b[43mdepth\u001b[49m\u001b[43m \u001b[49m\u001b[38;5;241;43m-\u001b[39;49m\u001b[43m \u001b[49m\u001b[38;5;241;43m1\u001b[39;49m\u001b[43m,\u001b[49m\u001b[43m \u001b[49m\u001b[43mtreatEofAsEpsilon\u001b[49m\u001b[43m)\u001b[49m\n\u001b[0;32m   1126\u001b[0m     \u001b[38;5;28;01mreturn\u001b[39;00m\n\u001b[0;32m   1127\u001b[0m \u001b[38;5;28;01melif\u001b[39;00m fullCtx:\n\u001b[0;32m   1128\u001b[0m     \u001b[38;5;66;03m# reached end of start rule\u001b[39;00m\n",
      "    \u001b[1;31m[... skipping similar frames: ParserATNSimulator.closureCheckingStopState at line 1136 (6 times), ParserATNSimulator.closure_ at line 1187 (6 times), ParserATNSimulator.closureCheckingStopState at line 1125 (2 times)]\u001b[0m\n",
      "File \u001b[1;32mc:\\Users\\Charlie\\AppData\\Local\\Programs\\Python\\Python312\\Lib\\site-packages\\antlr4\\atn\\ParserATNSimulator.py:1125\u001b[0m, in \u001b[0;36mParserATNSimulator.closureCheckingStopState\u001b[1;34m(self, config, configs, closureBusy, collectPredicates, fullCtx, depth, treatEofAsEpsilon)\u001b[0m\n\u001b[0;32m   1121\u001b[0m         \u001b[38;5;66;03m# While we have context to pop back from, we may have\u001b[39;00m\n\u001b[0;32m   1122\u001b[0m         \u001b[38;5;66;03m# gotten that context AFTER having falling off a rule.\u001b[39;00m\n\u001b[0;32m   1123\u001b[0m         \u001b[38;5;66;03m# Make sure we track that we are now out of context.\u001b[39;00m\n\u001b[0;32m   1124\u001b[0m         c\u001b[38;5;241m.\u001b[39mreachesIntoOuterContext \u001b[38;5;241m=\u001b[39m config\u001b[38;5;241m.\u001b[39mreachesIntoOuterContext\n\u001b[1;32m-> 1125\u001b[0m         \u001b[38;5;28;43mself\u001b[39;49m\u001b[38;5;241;43m.\u001b[39;49m\u001b[43mclosureCheckingStopState\u001b[49m\u001b[43m(\u001b[49m\u001b[43mc\u001b[49m\u001b[43m,\u001b[49m\u001b[43m \u001b[49m\u001b[43mconfigs\u001b[49m\u001b[43m,\u001b[49m\u001b[43m \u001b[49m\u001b[43mclosureBusy\u001b[49m\u001b[43m,\u001b[49m\u001b[43m \u001b[49m\u001b[43mcollectPredicates\u001b[49m\u001b[43m,\u001b[49m\u001b[43m \u001b[49m\u001b[43mfullCtx\u001b[49m\u001b[43m,\u001b[49m\u001b[43m \u001b[49m\u001b[43mdepth\u001b[49m\u001b[43m \u001b[49m\u001b[38;5;241;43m-\u001b[39;49m\u001b[43m \u001b[49m\u001b[38;5;241;43m1\u001b[39;49m\u001b[43m,\u001b[49m\u001b[43m \u001b[49m\u001b[43mtreatEofAsEpsilon\u001b[49m\u001b[43m)\u001b[49m\n\u001b[0;32m   1126\u001b[0m     \u001b[38;5;28;01mreturn\u001b[39;00m\n\u001b[0;32m   1127\u001b[0m \u001b[38;5;28;01melif\u001b[39;00m fullCtx:\n\u001b[0;32m   1128\u001b[0m     \u001b[38;5;66;03m# reached end of start rule\u001b[39;00m\n",
      "    \u001b[1;31m[... skipping similar frames: ParserATNSimulator.closureCheckingStopState at line 1136 (2 times), ParserATNSimulator.closure_ at line 1187 (2 times)]\u001b[0m\n",
      "File \u001b[1;32mc:\\Users\\Charlie\\AppData\\Local\\Programs\\Python\\Python312\\Lib\\site-packages\\antlr4\\atn\\ParserATNSimulator.py:1136\u001b[0m, in \u001b[0;36mParserATNSimulator.closureCheckingStopState\u001b[1;34m(self, config, configs, closureBusy, collectPredicates, fullCtx, depth, treatEofAsEpsilon)\u001b[0m\n\u001b[0;32m   1133\u001b[0m         \u001b[38;5;28;01mif\u001b[39;00m ParserATNSimulator\u001b[38;5;241m.\u001b[39mdebug:\n\u001b[0;32m   1134\u001b[0m             \u001b[38;5;28mprint\u001b[39m(\u001b[38;5;124m\"\u001b[39m\u001b[38;5;124mFALLING off rule \u001b[39m\u001b[38;5;124m\"\u001b[39m \u001b[38;5;241m+\u001b[39m \u001b[38;5;28mself\u001b[39m\u001b[38;5;241m.\u001b[39mgetRuleName(config\u001b[38;5;241m.\u001b[39mstate\u001b[38;5;241m.\u001b[39mruleIndex))\n\u001b[1;32m-> 1136\u001b[0m \u001b[38;5;28;43mself\u001b[39;49m\u001b[38;5;241;43m.\u001b[39;49m\u001b[43mclosure_\u001b[49m\u001b[43m(\u001b[49m\u001b[43mconfig\u001b[49m\u001b[43m,\u001b[49m\u001b[43m \u001b[49m\u001b[43mconfigs\u001b[49m\u001b[43m,\u001b[49m\u001b[43m \u001b[49m\u001b[43mclosureBusy\u001b[49m\u001b[43m,\u001b[49m\u001b[43m \u001b[49m\u001b[43mcollectPredicates\u001b[49m\u001b[43m,\u001b[49m\u001b[43m \u001b[49m\u001b[43mfullCtx\u001b[49m\u001b[43m,\u001b[49m\u001b[43m \u001b[49m\u001b[43mdepth\u001b[49m\u001b[43m,\u001b[49m\u001b[43m \u001b[49m\u001b[43mtreatEofAsEpsilon\u001b[49m\u001b[43m)\u001b[49m\n",
      "File \u001b[1;32mc:\\Users\\Charlie\\AppData\\Local\\Programs\\Python\\Python312\\Lib\\site-packages\\antlr4\\atn\\ParserATNSimulator.py:1187\u001b[0m, in \u001b[0;36mParserATNSimulator.closure_\u001b[1;34m(self, config, configs, closureBusy, collectPredicates, fullCtx, depth, treatEofAsEpsilon)\u001b[0m\n\u001b[0;32m   1184\u001b[0m         \u001b[38;5;28;01mif\u001b[39;00m newDepth \u001b[38;5;241m>\u001b[39m\u001b[38;5;241m=\u001b[39m \u001b[38;5;241m0\u001b[39m:\n\u001b[0;32m   1185\u001b[0m             newDepth \u001b[38;5;241m+\u001b[39m\u001b[38;5;241m=\u001b[39m \u001b[38;5;241m1\u001b[39m\n\u001b[1;32m-> 1187\u001b[0m \u001b[38;5;28mself\u001b[39m\u001b[38;5;241m.\u001b[39mclosureCheckingStopState(c, configs, closureBusy, continueCollecting, fullCtx, newDepth, treatEofAsEpsilon)\n",
      "\u001b[1;31mKeyboardInterrupt\u001b[0m: "
     ]
    }
   ],
   "source": [
    "desmosGraphData = loadJsonData()\n",
    "\n",
    "# Now you can pass desmosGraphData to your displayData function\n",
    "displayData(desmosGraphData)"
   ]
  }
 ],
 "metadata": {
  "kernelspec": {
   "display_name": "Python 3",
   "language": "python",
   "name": "python3"
  },
  "language_info": {
   "codemirror_mode": {
    "name": "ipython",
    "version": 3
   },
   "file_extension": ".py",
   "mimetype": "text/x-python",
   "name": "python",
   "nbconvert_exporter": "python",
   "pygments_lexer": "ipython3",
   "version": "3.12.0"
  }
 },
 "nbformat": 4,
 "nbformat_minor": 2
}

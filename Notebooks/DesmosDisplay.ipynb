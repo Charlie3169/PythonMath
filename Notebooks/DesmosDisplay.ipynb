{
 "cells": [
  {
   "cell_type": "code",
   "execution_count": null,
   "metadata": {},
   "outputs": [],
   "source": [
    "from sympy.parsing.latex import parse_latex\n",
    "from sympy import *\n",
    "\n",
    "init_printing(fontsize='200pt', use_latex='mathjax')\n",
    "\n",
    "def displayData(desmosGraphData):\n",
    "    for graph in desmosGraphData:\n",
    "        # Display the title of the graph\n",
    "        print(f\"Title: {graph['title']}\")\n",
    "        print(\"-\" * 50)\n",
    "\n",
    "        # Loop through each expression in the graph\n",
    "        for expr in graph['expressions']:\n",
    "            # Display text nodes\n",
    "            if 'text' in expr['content']:\n",
    "                print(f\"Text: {expr['content']['text']}\")\n",
    "\n",
    "            # Pretty-print LaTeX expressions using SymPy\n",
    "            if 'latex' in expr['content']:\n",
    "                latex_expr = expr['content']['latex']\n",
    "                try:\n",
    "                    sympy_expr = parse_latex(latex_expr)                                     \n",
    "                    display(sympy_expr)\n",
    "                except Exception as e:\n",
    "                    print(f\"Error parsing LaTeX: {e}\")\n",
    "                    print(f\"Raw LaTeX: {latex_expr}\")            "
   ]
  },
  {
   "cell_type": "code",
   "execution_count": null,
   "metadata": {},
   "outputs": [],
   "source": [
    "import json\n",
    "\n",
    "# Function to read the JSON data from the file\n",
    "def loadJsonData(file_path = 'C:\\\\Users\\\\Charlie\\Documents\\\\TextRepository\\\\NodesJSON\\\\DesmosJSON\\\\desmosData.json'):\n",
    "    with open(file_path, 'r') as file:\n",
    "        data = json.load(file)\n",
    "    return data"
   ]
  },
  {
   "cell_type": "code",
   "execution_count": null,
   "metadata": {},
   "outputs": [],
   "source": [
    "desmosGraphData = loadJsonData()\n",
    "\n",
    "displayData(desmosGraphData)"
   ]
  }
 ],
 "metadata": {
  "kernelspec": {
   "display_name": "Python 3",
   "language": "python",
   "name": "python3"
  },
  "language_info": {
   "codemirror_mode": {
    "name": "ipython",
    "version": 3
   },
   "file_extension": ".py",
   "mimetype": "text/x-python",
   "name": "python",
   "nbconvert_exporter": "python",
   "pygments_lexer": "ipython3",
   "version": "3.12.0"
  }
 },
 "nbformat": 4,
 "nbformat_minor": 2
}

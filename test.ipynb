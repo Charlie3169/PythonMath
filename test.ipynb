{
 "cells": [
  {
   "cell_type": "code",
   "execution_count": 17,
   "metadata": {},
   "outputs": [],
   "source": [
    "from sympy import *\n",
    "x, y, z, c = symbols('x y z c')\n"
   ]
  },
  {
   "cell_type": "code",
   "execution_count": 18,
   "metadata": {},
   "outputs": [
    {
     "name": "stdout",
     "output_type": "stream",
     "text": [
      "Eq(x + 1, 4)\n",
      "[3]\n"
     ]
    }
   ],
   "source": [
    "# Equality example\n",
    "eq1 = Eq(x + 1, 4)\n",
    "print(eq1)\n",
    "print(solve(eq1))"
   ]
  },
  {
   "cell_type": "code",
   "execution_count": 19,
   "metadata": {},
   "outputs": [
    {
     "name": "stdout",
     "output_type": "stream",
     "text": [
      "c**8 + 4*c**7 + 6*c**6 + 6*c**5 + 5*c**4 + 2*c**3 + c**2 + c\n",
      "c*(c + 1)*(c**6 + 3*c**5 + 3*c**4 + 3*c**3 + 2*c**2 + 1)\n"
     ]
    }
   ],
   "source": [
    "print(expand((((c)**2 + c)**2 + c)**2 + c))\n",
    "print(factor(expand((((c)**2 + c)**2 + c)**2 + c)))"
   ]
  },
  {
   "cell_type": "code",
   "execution_count": 20,
   "metadata": {},
   "outputs": [
    {
     "name": "stdout",
     "output_type": "stream",
     "text": [
      "{x: 73/50, y: -3/50}\n"
     ]
    }
   ],
   "source": [
    "# System of equations with two variables\n",
    "eq2 = Eq(5*x + 5*y - 7, 0)\n",
    "eq3 = Eq(6*x - 4*y - 9, 0)\n",
    "solution = solve((eq2,eq3), (x,y))\n",
    "print(solution)"
   ]
  },
  {
   "cell_type": "code",
   "execution_count": 21,
   "metadata": {},
   "outputs": [
    {
     "name": "stdout",
     "output_type": "stream",
     "text": [
      "\n",
      "Sum of two expressions\n",
      "11*x + y - 16\n"
     ]
    }
   ],
   "source": [
    "print('\\nSum of two expressions')\n",
    "equ2 = 5*x + 5*y - 7\n",
    "equ3 = 6*x - 4*y - 9\n",
    "equ4 = equ2 + equ3\n",
    "print(equ4)\n"
   ]
  },
  {
   "cell_type": "code",
   "execution_count": 49,
   "metadata": {},
   "outputs": [
    {
     "name": "stdout",
     "output_type": "stream",
     "text": [
      "<class 'sympy.core.add.Add'>\n",
      "<class 'sympy.core.symbol.Symbol'>\n",
      "<class 'sympy.core.mul.Mul'>\n"
     ]
    }
   ],
   "source": [
    "print(type(equ3))\n",
    "print(type(x))\n",
    "print(type(x + x))"
   ]
  },
  {
   "cell_type": "code",
   "execution_count": 22,
   "metadata": {},
   "outputs": [
    {
     "name": "stdout",
     "output_type": "stream",
     "text": [
      "\n",
      "Solve for roots of x**2 = 2\n",
      "[-sqrt(2), sqrt(2)]\n",
      "\n",
      "Solve for roots of x**3 = 1\n",
      "[1, -1/2 - sqrt(3)*I/2, -1/2 + sqrt(3)*I/2]\n"
     ]
    }
   ],
   "source": [
    "\n",
    "print('\\nSolve for roots of x**2 = 2')\n",
    "print(solve(x**2 - 2, x))\n",
    "\n",
    "print('\\nSolve for roots of x**3 = 1')\n",
    "print(solve(x**3 - 1, x))\n"
   ]
  },
  {
   "cell_type": "code",
   "execution_count": 23,
   "metadata": {},
   "outputs": [
    {
     "name": "stdout",
     "output_type": "stream",
     "text": [
      "\n",
      "Nth derivatives of cosine:\n",
      "-sin(x)\n",
      "-cos(x)\n",
      "sin(x)\n",
      "cos(x)\n"
     ]
    }
   ],
   "source": [
    "\n",
    "#Derivatives\n",
    "print('\\nNth derivatives of cosine:')\n",
    "print(diff(cos(x), x))\n",
    "print(diff(cos(x), x, 2))\n",
    "print(diff(cos(x), x, 3))\n",
    "print(diff(cos(x), x, 4))\n"
   ]
  },
  {
   "cell_type": "code",
   "execution_count": 24,
   "metadata": {},
   "outputs": [
    {
     "name": "stdout",
     "output_type": "stream",
     "text": [
      "\n",
      "Derivative of e^(x**2)\n",
      "2*x*exp(x**2)\n"
     ]
    }
   ],
   "source": [
    "\n",
    "print('\\nDerivative of e^(x**2)')\n",
    "print(diff(exp(x**2), x))\n"
   ]
  },
  {
   "cell_type": "code",
   "execution_count": 25,
   "metadata": {},
   "outputs": [
    {
     "name": "stdout",
     "output_type": "stream",
     "text": [
      "\n",
      "Derivative of cas(x) [cos(x) + sin(x)]\n",
      "-sin(x) + cos(x)\n"
     ]
    }
   ],
   "source": [
    "\n",
    "print('\\nDerivative of cas(x) [cos(x) + sin(x)]')\n",
    "expr = cos(x) + sin(x)\n",
    "print(expr.diff(x))\n"
   ]
  },
  {
   "cell_type": "code",
   "execution_count": 26,
   "metadata": {},
   "outputs": [
    {
     "name": "stdout",
     "output_type": "stream",
     "text": [
      "\n",
      "Partial derivatives of exp(x*y*z) applied successively\n",
      "x**2*y*(x**3*y**3*z**3 + 11*x**2*y**2*z**2 + 30*x*y*z + 18)*exp(x*y*z)\n"
     ]
    }
   ],
   "source": [
    "\n",
    "print('\\nPartial derivatives of exp(x*y*z) applied successively')\n",
    "expr2 = exp(x*y*z)\n",
    "print(expr2.diff(x, y, 2, z, 3))\n"
   ]
  },
  {
   "cell_type": "code",
   "execution_count": 27,
   "metadata": {},
   "outputs": [
    {
     "name": "stdout",
     "output_type": "stream",
     "text": [
      "Derivative(exp(x*y*z), x, (y, 2), (z, 3))\n",
      "x**2*y*(x**3*y**3*z**3 + 11*x**2*y**2*z**2 + 30*x*y*z + 18)*exp(x*y*z)\n"
     ]
    }
   ],
   "source": [
    "\n",
    "deriv = Derivative(expr2, x, y, 2, z, 3)\n",
    "print(deriv)\n",
    "print(deriv.doit())\n"
   ]
  },
  {
   "cell_type": "code",
   "execution_count": 28,
   "metadata": {},
   "outputs": [
    {
     "name": "stdout",
     "output_type": "stream",
     "text": [
      "\n",
      "Indefinite integral of cos(x)\n",
      "sin(x)\n"
     ]
    }
   ],
   "source": [
    "\n",
    "#Integrals\n",
    "print('\\nIndefinite integral of cos(x)')\n",
    "print(integrate(cos(x), x))\n"
   ]
  },
  {
   "cell_type": "code",
   "execution_count": 29,
   "metadata": {},
   "outputs": [
    {
     "name": "stdout",
     "output_type": "stream",
     "text": [
      "\n",
      "Definite integral of 1/x from 1 to 3\n",
      "log(3)\n"
     ]
    }
   ],
   "source": [
    "\n",
    "print('\\nDefinite integral of 1/x from 1 to 3')\n",
    "print(integrate(1/x, (x, 1, 3)))\n"
   ]
  },
  {
   "cell_type": "code",
   "execution_count": 30,
   "metadata": {},
   "outputs": [
    {
     "name": "stdout",
     "output_type": "stream",
     "text": [
      "\n",
      "Gaussian integral\n",
      "pi\n"
     ]
    }
   ],
   "source": [
    "\n",
    "print('\\nGaussian integral')\n",
    "print(integrate(exp(-x**2 - y**2), (x, -oo, oo), (y, -oo, oo)))\n"
   ]
  },
  {
   "cell_type": "code",
   "execution_count": 31,
   "metadata": {},
   "outputs": [
    {
     "name": "stdout",
     "output_type": "stream",
     "text": [
      "\n",
      "Unevaluatable integral, returns Integral object\n",
      "Integral(x**x, x)\n"
     ]
    }
   ],
   "source": [
    "\n",
    "print('\\nUnevaluatable integral, returns Integral object')\n",
    "print(integrate(x**x, x))\n"
   ]
  },
  {
   "cell_type": "code",
   "execution_count": 32,
   "metadata": {},
   "outputs": [
    {
     "name": "stdout",
     "output_type": "stream",
     "text": [
      "\n",
      "Integral object example\n",
      "exp(x)*sin(x)/2 + exp(x)*cos(x)/2\n"
     ]
    }
   ],
   "source": [
    "\n",
    "print('\\nIntegral object example')\n",
    "expr3 = Integral(cos(x)*exp(x),x)\n",
    "print(expr3.doit())\n"
   ]
  },
  {
   "cell_type": "code",
   "execution_count": 33,
   "metadata": {},
   "outputs": [
    {
     "name": "stdout",
     "output_type": "stream",
     "text": [
      "\n",
      "Example of the power of integrate on sin(x**2)\n",
      "3*sqrt(2)*sqrt(pi)*fresnels(sqrt(2)*x/sqrt(pi))*gamma(3/4)/(8*gamma(7/4))\n"
     ]
    }
   ],
   "source": [
    "\n",
    "print('\\nExample of the power of integrate on sin(x**2)')\n",
    "expr4 = Integral(sin(x**2), x)\n",
    "print(expr4.doit())\n"
   ]
  },
  {
   "cell_type": "code",
   "execution_count": 34,
   "metadata": {},
   "outputs": [
    {
     "name": "stdout",
     "output_type": "stream",
     "text": [
      "\n",
      "Convert integrals to latex example\n",
      "\\int\\limits_{0}^{\\pi} \\cos^{2}{\\left(x \\right)}\\, dx\n"
     ]
    }
   ],
   "source": [
    "\n",
    "print('\\nConvert integrals to latex example')\n",
    "print(latex(Integral(cos(x)**2, (x, 0, pi))))\n"
   ]
  },
  {
   "cell_type": "code",
   "execution_count": 35,
   "metadata": {},
   "outputs": [
    {
     "name": "stdout",
     "output_type": "stream",
     "text": [
      "\n",
      "The limit of sin(x)/x as x goes to 0\n",
      "1\n"
     ]
    }
   ],
   "source": [
    "\n",
    "#Limits\n",
    "print('\\nThe limit of sin(x)/x as x goes to 0')\n",
    "print(limit(sin(x)/x, x, 0))\n"
   ]
  },
  {
   "cell_type": "code",
   "execution_count": 36,
   "metadata": {},
   "outputs": [
    {
     "name": "stdout",
     "output_type": "stream",
     "text": [
      "\n",
      "Example of the Limit object\n",
      "<bound method Limit.doit of Limit((cos(x) - 1)/x, x, 0)>\n"
     ]
    }
   ],
   "source": [
    "\n",
    "print('\\nExample of the Limit object')\n",
    "expr5 = Limit((cos(x) - 1)/x, x, 0)\n",
    "print(expr5.doit)\n"
   ]
  },
  {
   "cell_type": "code",
   "execution_count": 37,
   "metadata": {},
   "outputs": [
    {
     "name": "stdout",
     "output_type": "stream",
     "text": [
      "\n",
      "Example of series using exp(x)\n",
      "x**5/120 + x**4/24 + x**3/6 + x**2/2 + x + 1\n"
     ]
    }
   ],
   "source": [
    "\n",
    "#Series\n",
    "print('\\nExample of series using exp(x)')\n",
    "expr6 = exp(x)\n",
    "print(expr6.series(x, 0, 6).removeO())"
   ]
  }
 ],
 "metadata": {
  "kernelspec": {
   "display_name": "Python 3 (ipykernel)",
   "language": "python",
   "name": "python3"
  },
  "language_info": {
   "codemirror_mode": {
    "name": "ipython",
    "version": 3
   },
   "file_extension": ".py",
   "mimetype": "text/x-python",
   "name": "python",
   "nbconvert_exporter": "python",
   "pygments_lexer": "ipython3",
   "version": "3.10.6"
  },
  "vscode": {
   "interpreter": {
    "hash": "369f2c481f4da34e4445cda3fffd2e751bd1c4d706f27375911949ba6bb62e1c"
   }
  }
 },
 "nbformat": 4,
 "nbformat_minor": 2
}

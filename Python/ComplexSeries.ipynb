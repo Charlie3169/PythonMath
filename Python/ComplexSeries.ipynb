{
 "cells": [
  {
   "cell_type": "markdown",
   "metadata": {},
   "source": [
    "# Complex Series Plotter\n",
    "\n",
    "For this project I made a complex number plotter that uses Sympy as a backend for any functions I'd want to graph. I've always wanted an easy way to graph stuff on the complex plane (especially in a reusable way) and this project is a good start.\n",
    "\n"
   ]
  },
  {
   "cell_type": "code",
   "execution_count": 3,
   "metadata": {},
   "outputs": [],
   "source": [
    "import math\n",
    "import cmath\n",
    "import numpy as np\n",
    "from sympy import *\n",
    "import matplotlib.pyplot as plt"
   ]
  },
  {
   "cell_type": "code",
   "execution_count": 4,
   "metadata": {},
   "outputs": [],
   "source": [
    "x, t, z, s, a, b, c = symbols('x, t, z, s, a, b, c')\n",
    "k, m, n = symbols('k m n', integer=True)\n",
    "init_printing(fontsize='200pt', use_latex='mathjax')"
   ]
  },
  {
   "cell_type": "code",
   "execution_count": 5,
   "metadata": {},
   "outputs": [
    {
     "data": {
      "text/latex": [
       "$\\displaystyle \\int \\sqrt{\\frac{1}{x}}\\, dx$"
      ],
      "text/plain": [
       "⌠           \n",
       "⎮     ___   \n",
       "⎮    ╱ 1    \n",
       "⎮   ╱  ─  dx\n",
       "⎮ ╲╱   x    \n",
       "⌡           "
      ]
     },
     "metadata": {},
     "output_type": "display_data"
    }
   ],
   "source": [
    "testIntegral = Integral(sqrt(1/x),x)\n",
    "display(testIntegral)"
   ]
  },
  {
   "cell_type": "code",
   "execution_count": 6,
   "metadata": {},
   "outputs": [
    {
     "data": {
      "text/latex": [
       "$\\displaystyle \\sum_{k=1}^{\\infty} \\frac{1}{k}$"
      ],
      "text/plain": [
       "  ∞    \n",
       " ____  \n",
       " ╲     \n",
       "  ╲    \n",
       "   ╲  1\n",
       "   ╱  ─\n",
       "  ╱   k\n",
       " ╱     \n",
       " ‾‾‾‾  \n",
       "k = 1  "
      ]
     },
     "metadata": {},
     "output_type": "display_data"
    }
   ],
   "source": [
    "testSum = Sum(1/k, (k, 1, oo))\n",
    "display(testSum)"
   ]
  },
  {
   "cell_type": "code",
   "execution_count": 7,
   "metadata": {},
   "outputs": [
    {
     "data": {
      "text/latex": [
       "$\\displaystyle e^{\\frac{2 i \\pi}{7}}$"
      ],
      "text/plain": [
       " 2⋅ⅈ⋅π\n",
       " ─────\n",
       "   7  \n",
       "ℯ     "
      ]
     },
     "execution_count": 7,
     "metadata": {},
     "output_type": "execute_result"
    }
   ],
   "source": [
    "# This function outputs n-th roots of unity raised to arbitrary powers\n",
    "# These will be the building blocks of many other functions \n",
    "def rootOfUnityPower(numerator: int, denominator: int) -> Symbol:\n",
    "    return exp((2 * pi * I * numerator) / denominator)\n",
    "\n",
    "rootOfUnityPower(1,7)"
   ]
  },
  {
   "cell_type": "code",
   "execution_count": 8,
   "metadata": {},
   "outputs": [
    {
     "data": {
      "text/latex": [
       "$\\displaystyle \\sum_{n=1}^{\\infty} n^{- s} e^{\\frac{2 i \\pi n}{b}}$"
      ],
      "text/plain": [
       "  ∞               \n",
       " ____             \n",
       " ╲                \n",
       "  ╲        2⋅ⅈ⋅π⋅n\n",
       "   ╲       ───────\n",
       "   ╱   -s     b   \n",
       "  ╱   n  ⋅ℯ       \n",
       " ╱                \n",
       " ‾‾‾‾             \n",
       "n = 1             "
      ]
     },
     "metadata": {},
     "output_type": "display_data"
    },
    {
     "data": {
      "text/latex": [
       "$\\displaystyle \\sum_{n=1}^{\\infty} \\frac{e^{\\frac{2 i \\pi n}{3}}}{n^{2}}$"
      ],
      "text/plain": [
       "  ∞            \n",
       "______         \n",
       "╲              \n",
       " ╲             \n",
       "  ╲     2⋅ⅈ⋅π⋅n\n",
       "   ╲    ───────\n",
       "    ╲      3   \n",
       "    ╱  ℯ       \n",
       "   ╱   ────────\n",
       "  ╱        2   \n",
       " ╱        n    \n",
       "╱              \n",
       "‾‾‾‾‾‾         \n",
       "n = 1          "
      ]
     },
     "metadata": {},
     "output_type": "display_data"
    },
    {
     "data": {
      "text/latex": [
       "$\\displaystyle -0.54805 + 0.6765 i$"
      ],
      "text/plain": [
       "-0.54805 + 0.6765⋅ⅈ"
      ]
     },
     "metadata": {},
     "output_type": "display_data"
    }
   ],
   "source": [
    "rootOfUnityZetaSeries = Sum(rootOfUnityPower(n,b) / (n ** s), (n, 1, oo))\n",
    "display(rootOfUnityZetaSeries)\n",
    "display(rootOfUnityZetaSeries.subs({s:2,b:3}))\n",
    "display(rootOfUnityZetaSeries.evalf(subs={s:2,b:3}))"
   ]
  },
  {
   "cell_type": "code",
   "execution_count": 9,
   "metadata": {},
   "outputs": [
    {
     "data": {
      "text/latex": [
       "$\\displaystyle \\frac{e^{\\frac{2 i \\pi n}{5}}}{n^{3}}$"
      ],
      "text/plain": [
       " 2⋅ⅈ⋅π⋅n\n",
       " ───────\n",
       "    5   \n",
       "ℯ       \n",
       "────────\n",
       "    3   \n",
       "   n    "
      ]
     },
     "execution_count": 9,
     "metadata": {},
     "output_type": "execute_result"
    }
   ],
   "source": [
    "def rootOfUnityZetaFunction(nthRootOfUnity : int, rotationalOffset : int, sValue : complex) -> Symbol:\n",
    "    effectiveOffset = rotationalOffset % nthRootOfUnity    \n",
    "    return rootOfUnityPower(n + effectiveOffset, nthRootOfUnity) / (n ** sValue)\n",
    "\n",
    "rootOfUnityZetaFunction(5, 0, 3)"
   ]
  },
  {
   "cell_type": "code",
   "execution_count": 10,
   "metadata": {},
   "outputs": [
    {
     "data": {
      "text/latex": [
       "$\\displaystyle \\sum_{n=1}^{\\infty} \\frac{1}{n^{2}}$"
      ],
      "text/plain": [
       "  ∞     \n",
       " ____   \n",
       " ╲      \n",
       "  ╲   1 \n",
       "   ╲  ──\n",
       "   ╱   2\n",
       "  ╱   n \n",
       " ╱      \n",
       " ‾‾‾‾   \n",
       "n = 1   "
      ]
     },
     "metadata": {},
     "output_type": "display_data"
    },
    {
     "data": {
      "text/latex": [
       "$\\displaystyle \\frac{\\pi^{2}}{6}$"
      ],
      "text/plain": [
       " 2\n",
       "π \n",
       "──\n",
       "6 "
      ]
     },
     "metadata": {},
     "output_type": "display_data"
    },
    {
     "data": {
      "text/latex": [
       "$\\displaystyle \\sum_{n=1}^{\\infty} \\frac{1}{n^{3}}$"
      ],
      "text/plain": [
       "  ∞     \n",
       " ____   \n",
       " ╲      \n",
       "  ╲   1 \n",
       "   ╲  ──\n",
       "   ╱   3\n",
       "  ╱   n \n",
       " ╱      \n",
       " ‾‾‾‾   \n",
       "n = 1   "
      ]
     },
     "metadata": {},
     "output_type": "display_data"
    },
    {
     "data": {
      "text/latex": [
       "$\\displaystyle \\zeta\\left(3\\right)$"
      ],
      "text/plain": [
       "ζ(3)"
      ]
     },
     "metadata": {},
     "output_type": "display_data"
    },
    {
     "data": {
      "text/latex": [
       "$\\displaystyle \\sum_{n=1}^{\\infty} \\frac{1}{n^{4}}$"
      ],
      "text/plain": [
       "  ∞     \n",
       " ____   \n",
       " ╲      \n",
       "  ╲   1 \n",
       "   ╲  ──\n",
       "   ╱   4\n",
       "  ╱   n \n",
       " ╱      \n",
       " ‾‾‾‾   \n",
       "n = 1   "
      ]
     },
     "metadata": {},
     "output_type": "display_data"
    },
    {
     "data": {
      "text/latex": [
       "$\\displaystyle \\frac{\\pi^{4}}{90}$"
      ],
      "text/plain": [
       " 4\n",
       "π \n",
       "──\n",
       "90"
      ]
     },
     "metadata": {},
     "output_type": "display_data"
    }
   ],
   "source": [
    "display(Sum(1/n**2, (n, 1, oo)))\n",
    "display(Sum(1/n**2, (n, 1, oo)).doit())\n",
    "display(Sum(1/n**3, (n, 1, oo)))\n",
    "display(Sum(1/n**3, (n, 1, oo)).doit())\n",
    "display(Sum(1/n**4, (n, 1, oo)))\n",
    "display(Sum(1/n**4, (n, 1, oo)).doit())"
   ]
  },
  {
   "cell_type": "markdown",
   "metadata": {},
   "source": [
    "##### **Evaluating series using sequences**\n",
    "Constructing series as sequences rather than entire formulas allows for a finer control over how the series is calculated and displayed.\n",
    "By first creating a sequence of a function and then evaluating the series term by term it makes it much easier to take partial sums or plot values at particular points.\n",
    "\n"
   ]
  },
  {
   "cell_type": "code",
   "execution_count": 11,
   "metadata": {},
   "outputs": [],
   "source": [
    "def sequenceBuilder(sympyFunc : Function ,startIndex : int, endIndex : int) -> SeqFormula:\n",
    "    # I don't like the normal syntax so this function just wraps the base sequence function          \n",
    "    return sequence(sympyFunc, (n, startIndex, endIndex))"
   ]
  },
  {
   "cell_type": "code",
   "execution_count": 12,
   "metadata": {},
   "outputs": [
    {
     "data": {
      "text/latex": [
       "$\\displaystyle \\left[1, \\frac{1}{2}, \\frac{1}{3}, \\frac{1}{4}, \\ldots\\right]$"
      ],
      "text/plain": [
       "[1, 1/2, 1/3, 1/4, …]"
      ]
     },
     "metadata": {},
     "output_type": "display_data"
    }
   ],
   "source": [
    "rootOfUnityHarmonic = rootOfUnityPower(n, 1) / n\n",
    "rootOfUnityHarmonicSequence = sequenceBuilder(rootOfUnityHarmonic, 1, 10)\n",
    "display(rootOfUnityHarmonicSequence)"
   ]
  },
  {
   "cell_type": "code",
   "execution_count": 13,
   "metadata": {},
   "outputs": [
    {
     "data": {
      "text/latex": [
       "$\\displaystyle \\left[ 1, \\  \\frac{3}{2}, \\  \\frac{11}{6}, \\  \\frac{25}{12}, \\  \\frac{137}{60}, \\  \\frac{49}{20}, \\  \\frac{363}{140}, \\  \\frac{761}{280}, \\  \\frac{7129}{2520}, \\  \\frac{7381}{2520}\\right]$"
      ],
      "text/plain": [
       "⎡              25  137  49  363  761  7129  7381⎤\n",
       "⎢1, 3/2, 11/6, ──, ───, ──, ───, ───, ────, ────⎥\n",
       "⎣              12   60  20  140  280  2520  2520⎦"
      ]
     },
     "metadata": {},
     "output_type": "display_data"
    },
    {
     "data": {
      "text/latex": [
       "$\\displaystyle 2.92896825396825$"
      ],
      "text/plain": [
       "2.92896825396825"
      ]
     },
     "metadata": {},
     "output_type": "display_data"
    }
   ],
   "source": [
    "def partialSumSequence(inputSequence : SeqFormula):\n",
    "    outputSequence = []\n",
    "    partialSum = 0    \n",
    "    for i in range(0, inputSequence.length):\n",
    "        partialSum += inputSequence[i]\n",
    "        outputSequence.append(partialSum)\n",
    "    return outputSequence     \n",
    "\n",
    "output = partialSumSequence(rootOfUnityHarmonicSequence)\n",
    "display(output)\n",
    "display(output[rootOfUnityHarmonicSequence.length - 1].evalf())"
   ]
  },
  {
   "cell_type": "code",
   "execution_count": 14,
   "metadata": {},
   "outputs": [
    {
     "data": {
      "text/latex": [
       "$\\displaystyle 2.92896825396825$"
      ],
      "text/plain": [
       "2.92896825396825"
      ]
     },
     "metadata": {},
     "output_type": "display_data"
    }
   ],
   "source": [
    "# This method adds together a sequence of values and then evaluates it to an arbitray precision\n",
    "def evaluateSum(inputSeq : SeqFormula, precision : int):    \n",
    "    return N(summation(inputSeq.formula, (n, inputSeq.interval.left, inputSeq.interval.right)), precision) \n",
    "\n",
    "display(evaluateSum(rootOfUnityHarmonicSequence,15))"
   ]
  },
  {
   "cell_type": "code",
   "execution_count": 15,
   "metadata": {},
   "outputs": [
    {
     "data": {
      "text/latex": [
       "$\\displaystyle \\sum_{n=1}^{1000} \\frac{e^{\\frac{2 i \\pi n}{3}}}{n^{3}}$"
      ],
      "text/plain": [
       " 1000          \n",
       "______         \n",
       "╲              \n",
       " ╲             \n",
       "  ╲     2⋅ⅈ⋅π⋅n\n",
       "   ╲    ───────\n",
       "    ╲      3   \n",
       "    ╱  ℯ       \n",
       "   ╱   ────────\n",
       "  ╱        3   \n",
       " ╱        n    \n",
       "╱              \n",
       "‾‾‾‾‾‾         \n",
       "n = 1          "
      ]
     },
     "metadata": {},
     "output_type": "display_data"
    },
    {
     "data": {
      "text/latex": [
       "$\\displaystyle -0.534247512514876 + 0.765587079102405 i$"
      ],
      "text/plain": [
       "-0.534247512514876 + 0.765587079102405⋅ⅈ"
      ]
     },
     "metadata": {},
     "output_type": "display_data"
    },
    {
     "data": {
      "text/latex": [
       "$\\displaystyle -0.534247512514876 + 0.765587079102405 i$"
      ],
      "text/plain": [
       "-0.534247512514876 + 0.765587079102405⋅ⅈ"
      ]
     },
     "metadata": {},
     "output_type": "display_data"
    }
   ],
   "source": [
    "# Comparing ways to sum a series\n",
    "sumVersion = Sum(rootOfUnityZetaFunction(3, 0, 3), (n, 1, 1000))\n",
    "display(sumVersion)\n",
    "\n",
    "# Using sequences\n",
    "z1 = rootOfUnityZetaFunction(3,0, 3)\n",
    "zs1 = sequenceBuilder(z1, 1, 1000)\n",
    "display(evaluateSum(zs1,15))\n",
    "\n",
    "# Using Sum objects\n",
    "display(sumVersion.evalf(n=15))\n"
   ]
  },
  {
   "cell_type": "code",
   "execution_count": 16,
   "metadata": {},
   "outputs": [],
   "source": [
    "# This function plots partial sums tip to tail in the complex plane\n",
    "def complexPlotPartialSum(inputSequence : SeqFormula):    \n",
    "    listVersion = list(inputSequence)    \n",
    "    lastX = 0\n",
    "    lastY = 0\n",
    "    for i in range(0, len(listVersion)):\n",
    "        realComp = complex(inputSequence[i]).real\n",
    "        imagComp = complex(inputSequence[i]).imag\n",
    "        plt.plot([lastX, realComp], [lastY, imagComp])  \n",
    "        lastX = realComp\n",
    "        lastY = imagComp\n",
    "\n",
    "    plt.axis('square')\n",
    "    plt.show()    "
   ]
  },
  {
   "cell_type": "code",
   "execution_count": 17,
   "metadata": {},
   "outputs": [],
   "source": [
    "# This function plots sequences tip to tail in the complex plane\n",
    "def complexPlotSequence(inputSequence : SeqFormula):    \n",
    "    listVersion = list(inputSequence)    \n",
    "    lastX = 0\n",
    "    lastY = 0\n",
    "    plt.axis('square')\n",
    "    plt.show() \n",
    "    for i in range(0, len(listVersion)):        \n",
    "        realComp = complex(inputSequence[i]).real\n",
    "        imagComp = complex(inputSequence[i]).imag\n",
    "        if(i != 0):\n",
    "            plt.plot([lastX, realComp], [lastY, imagComp])  \n",
    "        else:\n",
    "            plt.plot(realComp, imagComp) # Might add a dot here \n",
    "        lastX = realComp\n",
    "        lastY = imagComp\n",
    "\n",
    "       "
   ]
  },
  {
   "cell_type": "code",
   "execution_count": 18,
   "metadata": {},
   "outputs": [
    {
     "data": {
      "text/latex": [
       "$\\displaystyle \\sum_{n=1}^{1000} \\frac{e^{\\frac{i \\pi n}{15}}}{n}$"
      ],
      "text/plain": [
       " 1000       \n",
       "_____       \n",
       "╲           \n",
       " ╲     ⅈ⋅π⋅n\n",
       "  ╲    ─────\n",
       "   ╲     15 \n",
       "   ╱  ℯ     \n",
       "  ╱   ──────\n",
       " ╱      n   \n",
       "╱           \n",
       "‾‾‾‾‾       \n",
       "n = 1       "
      ]
     },
     "metadata": {},
     "output_type": "display_data"
    },
    {
     "data": {
      "text/plain": [
       "'Plot of partial sums'"
      ]
     },
     "metadata": {},
     "output_type": "display_data"
    },
    {
     "data": {
      "image/png": "[encoded data removed]",
      "text/plain": [
       "<Figure size 640x480 with 1 Axes>"
      ]
     },
     "metadata": {},
     "output_type": "display_data"
    },
    {
     "data": {
      "text/latex": [
       "$\\displaystyle 1.56902977935108 + 1.46886825403257 i$"
      ],
      "text/plain": [
       "1.56902977935108 + 1.46886825403257⋅ⅈ"
      ]
     },
     "metadata": {},
     "output_type": "display_data"
    },
    {
     "data": {
      "image/png": "[encoded data removed]",
      "text/plain": [
       "<Figure size 640x480 with 1 Axes>"
      ]
     },
     "metadata": {},
     "output_type": "display_data"
    },
    {
     "data": {
      "image/png": "[encoded data removed]",
      "text/plain": [
       "<Figure size 640x480 with 1 Axes>"
      ]
     },
     "metadata": {},
     "output_type": "display_data"
    }
   ],
   "source": [
    "rootOfUnity = 30\n",
    "sValue = 1\n",
    "offset = 0\n",
    "numTerms = 1000\n",
    "\n",
    "# I might try to make a plotter that only asks for a function as input along with ranges\n",
    "# It would also be nice to be able to freely convert from Sum Objects to Sequences\n",
    "functionToPlot = rootOfUnityZetaFunction(rootOfUnity, offset, sValue)\n",
    "display(Sum(functionToPlot, (n, 1, numTerms)))\n",
    "functionSequence = sequenceBuilder(functionToPlot, 1, numTerms)\n",
    "\n",
    "# Plot of the sequence\n",
    "# Really only shows that a sequence converges to 0\n",
    "#display('Sequence values')\n",
    "#complexPlotSequence(functionSequence) \n",
    "\n",
    "# Plot of the partial sums\n",
    "display('Plot of partial sums')\n",
    "complexPlotPartialSum(partialSumSequence(functionSequence))\n",
    "display(evaluateSum(functionSequence,15))\n",
    "\n",
    "#Extra\n",
    "complexPlotPartialSum(partialSumSequence(sequenceBuilder(rootOfUnityZetaFunction(90, 0, 1), 1, numTerms)))\n",
    "complexPlotPartialSum(partialSumSequence(sequenceBuilder(rootOfUnityZetaFunction(5, 0, 1), 1, numTerms)))\n",
    "#This one is super slow, delete if neeeded\n",
    "#complexPlotPartialSum(partialSumSequence(sequenceBuilder(rootOfUnityZetaFunction(2.5, 0, 1), 1, numTerms)))\n"
   ]
  },
  {
   "cell_type": "code",
   "execution_count": 19,
   "metadata": {},
   "outputs": [
    {
     "data": {
      "image/png": "[encoded data removed]",
      "text/plain": [
       "<Figure size 640x480 with 1 Axes>"
      ]
     },
     "metadata": {},
     "output_type": "display_data"
    }
   ],
   "source": [
    "# Trying to think how I could use linspace for the above\n",
    "xVal = np.linspace(0, 2 * np.pi, 100)\n",
    "plt.plot(np.cos(xVal), np.sin(xVal))\n",
    "plt.axis('square')\n",
    "plt.show()\n"
   ]
  },
  {
   "cell_type": "code",
   "execution_count": 20,
   "metadata": {},
   "outputs": [
    {
     "data": {
      "text/latex": [
       "$\\displaystyle \\sum_{n=1}^{1000} \\frac{e^{\\frac{2 i \\pi n x}{b}}}{n}$"
      ],
      "text/plain": [
       " 1000           \n",
       "_____           \n",
       "╲               \n",
       " ╲     2⋅ⅈ⋅π⋅n⋅x\n",
       "  ╲    ─────────\n",
       "   ╲       b    \n",
       "   ╱  ℯ         \n",
       "  ╱   ──────────\n",
       " ╱        n     \n",
       "╱               \n",
       "‾‾‾‾‾           \n",
       "n = 1           "
      ]
     },
     "metadata": {},
     "output_type": "display_data"
    },
    {
     "data": {
      "text/latex": [
       "$\\displaystyle \\sum_{n=1}^{1000} \\frac{e^{\\frac{2440 i \\pi n}{67}}}{n}$"
      ],
      "text/plain": [
       " 1000            \n",
       "_____            \n",
       "╲                \n",
       " ╲     2440⋅ⅈ⋅π⋅n\n",
       "  ╲    ──────────\n",
       "   ╲       67    \n",
       "   ╱  ℯ          \n",
       "  ╱   ───────────\n",
       " ╱         n     \n",
       "╱                \n",
       "‾‾‾‾‾            \n",
       "n = 1            "
      ]
     },
     "metadata": {},
     "output_type": "display_data"
    },
    {
     "data": {
      "text/plain": [
       "'Plot of partial sums of fourier modulo function'"
      ]
     },
     "metadata": {},
     "output_type": "display_data"
    },
    {
     "data": {
      "image/png": "[encoded data removed]",
      "text/plain": [
       "<Figure size 640x480 with 1 Axes>"
      ]
     },
     "metadata": {},
     "output_type": "display_data"
    },
    {
     "data": {
      "text/latex": [
       "$\\displaystyle -0.199059841132322 + 0.913582028952504 i$"
      ],
      "text/plain": [
       "-0.199059841132322 + 0.913582028952504⋅ⅈ"
      ]
     },
     "metadata": {},
     "output_type": "display_data"
    },
    {
     "data": {
      "text/latex": [
       "$\\displaystyle 0.913582028952504$"
      ],
      "text/plain": [
       "0.913582028952504"
      ]
     },
     "metadata": {},
     "output_type": "display_data"
    },
    {
     "name": "stdout",
     "output_type": "stream",
     "text": [
      "1220 mod 67 = \n"
     ]
    },
    {
     "data": {
      "text/latex": [
       "$\\displaystyle 14.0162531590863$"
      ],
      "text/plain": [
       "14.0162531590863"
      ]
     },
     "metadata": {},
     "output_type": "display_data"
    }
   ],
   "source": [
    "numTerms = 1000\n",
    "xValue = 1220\n",
    "bValue = 67\n",
    "\n",
    "functionToPlot = rootOfUnityPower(x * n, b) / n        \n",
    "functionToPlot2 = (b / 2) - (b / pi) * im(rootOfUnityPower(x * n, b) / n) \n",
    "\n",
    "display(Sum(functionToPlot, (n, 1, numTerms)))\n",
    "functionToPlot = functionToPlot.subs({x:xValue, b:bValue})\n",
    "\n",
    "display(Sum(functionToPlot, (n, 1, numTerms)))\n",
    "functionSequence = sequenceBuilder(functionToPlot, 1, numTerms)\n",
    "\n",
    "display('Plot of partial sums of fourier modulo function')\n",
    "complexPlotPartialSum(partialSumSequence(functionSequence))\n",
    "finalSum = evaluateSum(functionSequence,15)\n",
    "display(finalSum)\n",
    "display(im(finalSum))\n",
    "print(xValue, 'mod', bValue, '= ')\n",
    "display(((bValue / 2) - (bValue / pi) * im(finalSum)).evalf(15))"
   ]
  },
  {
   "cell_type": "code",
   "execution_count": 21,
   "metadata": {},
   "outputs": [
    {
     "data": {
      "text/latex": [
       "$\\displaystyle \\sum_{k=1}^{\\infty} k^{- s} z^{k}$"
      ],
      "text/plain": [
       "  ∞         \n",
       " ___        \n",
       " ╲          \n",
       "  ╲    -s  k\n",
       "  ╱   k  ⋅z \n",
       " ╱          \n",
       " ‾‾‾        \n",
       "k = 1       "
      ]
     },
     "metadata": {},
     "output_type": "display_data"
    },
    {
     "data": {
      "text/latex": [
       "$\\displaystyle 1.64493406684823$"
      ],
      "text/plain": [
       "1.64493406684823"
      ]
     },
     "metadata": {},
     "output_type": "display_data"
    },
    {
     "data": {
      "text/latex": [
       "$\\displaystyle \\frac{\\pi^{2}}{6}$"
      ],
      "text/plain": [
       " 2\n",
       "π \n",
       "──\n",
       "6 "
      ]
     },
     "metadata": {},
     "output_type": "display_data"
    }
   ],
   "source": [
    "polylogarithm = Sum(z**k /k**s, (k, 1, oo))\n",
    "display(polylogarithm)\n",
    "display(polylogarithm.evalf(subs={s:2,z:1}, n=15))\n",
    "display(polylogarithm.subs({s:2,z:1}).doit())"
   ]
  },
  {
   "cell_type": "code",
   "execution_count": 33,
   "metadata": {},
   "outputs": [
    {
     "data": {
      "text/latex": [
       "$\\displaystyle \\sum_{n=1}^{30} \\frac{\\sum_{k=1}^{30} \\frac{e^{\\frac{60 i \\pi k}{n}}}{k}}{30 \\pi}$"
      ],
      "text/plain": [
       "    30                   \n",
       "_________                \n",
       "╲                        \n",
       " ╲          30           \n",
       "  ╲       _____          \n",
       "   ╲      ╲              \n",
       "    ╲      ╲     60⋅ⅈ⋅π⋅k\n",
       "     ╲      ╲    ────────\n",
       "      ╲      ╲      n    \n",
       "       ╲     ╱  ℯ        \n",
       "       ╱    ╱   ─────────\n",
       "      ╱    ╱        k    \n",
       "     ╱    ╱              \n",
       "    ╱     ‾‾‾‾‾          \n",
       "   ╱      k = 1          \n",
       "  ╱       ───────────────\n",
       " ╱              30⋅π     \n",
       "╱                        \n",
       "‾‾‾‾‾‾‾‾‾                \n",
       "  n = 1                  "
      ]
     },
     "metadata": {},
     "output_type": "display_data"
    },
    {
     "data": {
      "text/latex": [
       "$\\displaystyle 0.289204812292472 + 0.0704782253008914 i$"
      ],
      "text/plain": [
       "0.289204812292472 + 0.0704782253008914⋅ⅈ"
      ]
     },
     "metadata": {},
     "output_type": "display_data"
    },
    {
     "data": {
      "text/latex": [
       "$\\displaystyle \\operatorname{im}{\\left(\\sum_{n=1}^{30} \\frac{\\sum_{k=1}^{30} \\frac{e^{\\frac{60 i \\pi k}{n}}}{k}}{30 \\pi}\\right)} + 0.5$"
      ],
      "text/plain": [
       "  ⎛    30                   ⎞      \n",
       "  ⎜_________                ⎟      \n",
       "  ⎜╲                        ⎟      \n",
       "  ⎜ ╲          30           ⎟      \n",
       "  ⎜  ╲       _____          ⎟      \n",
       "  ⎜   ╲      ╲              ⎟      \n",
       "  ⎜    ╲      ╲     60⋅ⅈ⋅π⋅k⎟      \n",
       "  ⎜     ╲      ╲    ────────⎟      \n",
       "  ⎜      ╲      ╲      n    ⎟      \n",
       "  ⎜       ╲     ╱  ℯ        ⎟      \n",
       "im⎜       ╱    ╱   ─────────⎟ + 0.5\n",
       "  ⎜      ╱    ╱        k    ⎟      \n",
       "  ⎜     ╱    ╱              ⎟      \n",
       "  ⎜    ╱     ‾‾‾‾‾          ⎟      \n",
       "  ⎜   ╱      k = 1          ⎟      \n",
       "  ⎜  ╱       ───────────────⎟      \n",
       "  ⎜ ╱              30⋅π     ⎟      \n",
       "  ⎜╱                        ⎟      \n",
       "  ⎜‾‾‾‾‾‾‾‾‾                ⎟      \n",
       "  ⎝  n = 1                  ⎠      "
      ]
     },
     "metadata": {},
     "output_type": "display_data"
    },
    {
     "data": {
      "text/latex": [
       "$\\displaystyle 0.570478225300891$"
      ],
      "text/plain": [
       "0.570478225300891"
      ]
     },
     "metadata": {},
     "output_type": "display_data"
    },
    {
     "data": {
      "text/latex": [
       "$\\displaystyle \\gamma$"
      ],
      "text/plain": [
       "γ"
      ]
     },
     "metadata": {},
     "output_type": "display_data"
    },
    {
     "data": {
      "text/latex": [
       "$\\displaystyle 0.577215664901533$"
      ],
      "text/plain": [
       "0.577215664901533"
      ]
     },
     "metadata": {},
     "output_type": "display_data"
    },
    {
     "data": {
      "text/latex": [
       "$\\displaystyle 0.00673743960064141$"
      ],
      "text/plain": [
       "0.00673743960064141"
      ]
     },
     "metadata": {},
     "output_type": "display_data"
    }
   ],
   "source": [
    "#display(polylogarithm)\n",
    "#display(polylogarithm.evalf(subs={s:2,z:1}, n=20))\n",
    "#display(polylogarithm.subs({s:2,z:1}).doit())\n",
    "\n",
    "#fractionalGamma = polylogarithm.subs({s:1,z:rootOfUnityPower(m, b)})\n",
    "\n",
    "inner = 30\n",
    "outer = 30\n",
    "\n",
    "gammaPhaseShift = Sum(Sum(rootOfUnityPower(outer * k, n) / k, (k, 1, inner)) / (outer * pi), (n, 1, outer)) \n",
    "gammaPartialLimit = 1/2 + im(gammaPhaseShift) # + error term\n",
    "errorTerm = Sum(Sum(rootOfUnityPower(outer * k, n) / k, (k, 1, n)) / (outer * pi), (n, 1, outer))\n",
    "\n",
    "display(gammaPhaseShift)\n",
    "display(gammaPhaseShift.evalf(n=15))\n",
    "\n",
    "display(gammaPartialLimit)\n",
    "display(gammaPartialLimit.evalf(n=15))\n",
    "\n",
    "display(EulerGamma)\n",
    "display(EulerGamma.evalf(15))\n",
    "\n",
    "display((EulerGamma - gammaPartialLimit).evalf(n=15))\n",
    "\n",
    "#display(Sum(fractionalGamma / (m * pi), (n, 1, m)))\n",
    "#fractionalGamma = fractionalGamma.subs({x:m, b:n})\n",
    "\n",
    "#display(Sum(fractionalGamma  / (m * pi) , (n, 1, m)))\n",
    "#functionSequence = sequenceBuilder(fractionalGamma, 3, m)\n",
    "\n",
    "#finalSum = evaluateSum(functionSequence,15)\n",
    "#display(im(finalSum + 1/2))\n",
    "#display(im(finalSum + 1/2).evalf(15))\n",
    "\n",
    "#display('Plot of ?')\n",
    "#complexPlotPartialSum(partialSumSequence(functionSequence))\n"
   ]
  }
 ],
 "metadata": {
  "kernelspec": {
   "display_name": "Python 3.10.6 64-bit",
   "language": "python",
   "name": "python3"
  },
  "language_info": {
   "codemirror_mode": {
    "name": "ipython",
    "version": 3
   },
   "file_extension": ".py",
   "mimetype": "text/x-python",
   "name": "python",
   "nbconvert_exporter": "python",
   "pygments_lexer": "ipython3",
   "version": "3.10.6"
  },
  "orig_nbformat": 4,
  "vscode": {
   "interpreter": {
    "hash": "369f2c481f4da34e4445cda3fffd2e751bd1c4d706f27375911949ba6bb62e1c"
   }
  }
 },
 "nbformat": 4,
 "nbformat_minor": 2
}
